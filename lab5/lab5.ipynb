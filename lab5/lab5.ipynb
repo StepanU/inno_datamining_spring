{
 "cells": [
  {
   "cell_type": "markdown",
   "metadata": {},
   "source": [
    "# Lab 5. Outliers Detection"
   ]
  },
  {
   "cell_type": "markdown",
   "metadata": {},
   "source": [
    "![Outliers](./Outliers.jpeg)"
   ]
  },
  {
   "cell_type": "markdown",
   "metadata": {},
   "source": [
    "## Bayesian modeling "
   ]
  },
  {
   "cell_type": "code",
   "execution_count": 18,
   "metadata": {},
   "outputs": [],
   "source": [
    "%matplotlib inline\n",
    "import numpy as np\n",
    "import matplotlib as mpl\n",
    "import matplotlib.pyplot as plt\n",
    "from matplotlib.colors import ListedColormap\n",
    "import scipy as sp\n",
    "import pandas as pd\n",
    "import seaborn as sns\n",
    "import warnings\n",
    "sns.set_style('darkgrid')\n",
    "plotBlue = sns.color_palette()[0]\n",
    "np.random.seed(3)\n",
    "warnings.filterwarnings(\"ignore\")"
   ]
  },
  {
   "cell_type": "markdown",
   "metadata": {},
   "source": [
    "### Normally Distributed Single Variable\n",
    "\n",
    "In this section, we will see how anomaly detection can work for observations with a single feature.\n",
    "\n",
    "The simplest possible case for anomaly detection is observational data with a single, normally distributed feature. We'll generate 1000 such observations."
   ]
  },
  {
   "cell_type": "code",
   "execution_count": 19,
   "metadata": {},
   "outputs": [
    {
     "name": "stderr",
     "output_type": "stream",
     "text": [
      "'c' argument looks like a single numeric RGB or RGBA sequence, which should be avoided as value-mapping will have precedence in case its length matches with 'x' & 'y'.  Please use a 2-D array with a single row if you really want to specify the same RGB or RGBA value for all points."
     ]
    },
    {
     "name": "stderr",
     "output_type": "stream",
     "text": [
      "\n"
     ]
    },
    {
     "data": {
      "image/png": "[encoded data removed]",
      "text/plain": [
       "<Figure size 432x288 with 2 Axes>"
      ]
     },
     "metadata": {},
     "output_type": "display_data"
    }
   ],
   "source": [
    "N = 1000\n",
    "X1 = np.random.normal(4, 12, N)\n",
    "f, axes = plt.subplots(nrows=2, sharex=True)\n",
    "axes[0].set_xlim(-50, 50)\n",
    "axes[0].scatter(X1, np.zeros(N), marker='x', c=plotBlue)\n",
    "axes[1].hist(X1, bins=50)\n",
    "plt.show()"
   ]
  },
  {
   "cell_type": "markdown",
   "metadata": {},
   "source": [
    "To model this data as a normal distribution, we take the mean and the standard deviation from the sample we have."
   ]
  },
  {
   "cell_type": "code",
   "execution_count": 20,
   "metadata": {},
   "outputs": [
    {
     "name": "stdout",
     "output_type": "stream",
     "text": [
      "Sample Mean:"
     ]
    },
    {
     "name": "stdout",
     "output_type": "stream",
     "text": [
      " "
     ]
    },
    {
     "name": "stdout",
     "output_type": "stream",
     "text": [
      "4.207411995770011"
     ]
    },
    {
     "name": "stdout",
     "output_type": "stream",
     "text": [
      "\n"
     ]
    },
    {
     "name": "stdout",
     "output_type": "stream",
     "text": [
      "Sample Standard Deviation:"
     ]
    },
    {
     "name": "stdout",
     "output_type": "stream",
     "text": [
      " "
     ]
    },
    {
     "name": "stdout",
     "output_type": "stream",
     "text": [
      "12.100822788615268"
     ]
    }
   ],
   "source": [
    "sample_mean = X1.mean()\n",
    "sample_sigma = X1.std()\n",
    "print('Sample Mean:', sample_mean)\n",
    "print('Sample Standard Deviation:', sample_sigma)"
   ]
  },
  {
   "cell_type": "markdown",
   "metadata": {},
   "source": [
    "Our estimate for the distribution therefore looks like this:"
   ]
  },
  {
   "cell_type": "code",
   "execution_count": 21,
   "metadata": {},
   "outputs": [
    {
     "data": {
      "image/png": "[encoded data removed]",
      "text/plain": [
       "<Figure size 432x288 with 1 Axes>"
      ]
     },
     "metadata": {},
     "output_type": "display_data"
    },
    {
     "name": "stdout",
     "output_type": "stream",
     "text": [
      "Lower Bound:"
     ]
    },
    {
     "name": "stdout",
     "output_type": "stream",
     "text": [
      " "
     ]
    },
    {
     "name": "stdout",
     "output_type": "stream",
     "text": [
      "-27.012710798857384"
     ]
    },
    {
     "name": "stdout",
     "output_type": "stream",
     "text": [
      "\n"
     ]
    },
    {
     "name": "stdout",
     "output_type": "stream",
     "text": [
      "Upper Bound:"
     ]
    },
    {
     "name": "stdout",
     "output_type": "stream",
     "text": [
      " "
     ]
    },
    {
     "name": "stdout",
     "output_type": "stream",
     "text": [
      "35.4275347903974"
     ]
    },
    {
     "name": "stdout",
     "output_type": "stream",
     "text": [
      "\n"
     ]
    }
   ],
   "source": [
    "base = np.linspace(-50, 50, 100)\n",
    "normal = sp.stats.norm.pdf(base, sample_mean, sample_sigma)\n",
    "lower_bound = sample_mean - (2.58 * sample_sigma)\n",
    "upper_bound = sample_mean + (2.58 * sample_sigma)\n",
    "anomalous = np.logical_or(base < [lower_bound]*100, base > [upper_bound]*100)\n",
    "\n",
    "plt.plot(base, normal)\n",
    "plt.fill_between(base, normal, where=anomalous, color=[1, 0, 0, 0.4])\n",
    "plt.xlim(-50, 50)\n",
    "plt.show()\n",
    "print('Lower Bound:', lower_bound)\n",
    "print('Upper Bound:', upper_bound)"
   ]
  },
  {
   "cell_type": "markdown",
   "metadata": {},
   "source": [
    "Now we just have to decide on some 'epsilon' value, which dictates our probability threshold for anomalous events.  If we set epsilon to .01, we're saying that any draw for which there's a probability of 1% or less that it given the above distribution should be marked as anomalous.  These values are the upper and lower bounds for what we consider 'normal', and are represented in the graphs above by the area shaded in red."
   ]
  },
  {
   "cell_type": "markdown",
   "metadata": {},
   "source": [
    "Let's look at two sample draws to see if they're anomalous."
   ]
  },
  {
   "cell_type": "code",
   "execution_count": 22,
   "metadata": {},
   "outputs": [
    {
     "name": "stderr",
     "output_type": "stream",
     "text": [
      "'c' argument looks like a single numeric RGB or RGBA sequence, which should be avoided as value-mapping will have precedence in case its length matches with 'x' & 'y'.  Please use a 2-D array with a single row if you really want to specify the same RGB or RGBA value for all points."
     ]
    },
    {
     "name": "stderr",
     "output_type": "stream",
     "text": [
      "\n"
     ]
    },
    {
     "data": {
      "image/png": "[encoded data removed]",
      "text/plain": [
       "<Figure size 432x288 with 1 Axes>"
      ]
     },
     "metadata": {},
     "output_type": "display_data"
    }
   ],
   "source": [
    "plt.scatter(X1, np.zeros(N), marker='x', c=plotBlue)\n",
    "plt.xlim(-50, 50)\n",
    "plt.scatter(-29, 0, marker='x', color='red', s=150, linewidths=3)\n",
    "plt.scatter(17, 0, marker='x', color='green', s=150, linewidths=3)\n",
    "plt.axvline(lower_bound, ymin=.25, ymax=.75, color='red', linewidth=1)\n",
    "plt.axvline(upper_bound, ymin=.25, ymax=.75, color='red', linewidth=1)\n",
    "plt.show()"
   ]
  },
  {
   "cell_type": "markdown",
   "metadata": {},
   "source": [
    "Here we can see that the red draw exceeds the lower bound, and would therefore come up as anomalous, whereas the green draw falls within the normal range.\n",
    "\n",
    "Note that we’re losing some uncertainty by doing it this way.  We’re using the sample mean and standard deviation directly as estimates for the population mean and standard deviation, but of course there is some uncertainty in those estimates.  This model has no mechanism for preserving that uncertainty; we get the same probability estimate for any given event regardless of how certain we are about our estimates for those parameters."
   ]
  },
  {
   "cell_type": "markdown",
   "metadata": {},
   "source": [
    "### Non-normally distributed single variable\n",
    "\n",
    "In this section, we’ll look at a slightly more complicated case, in which we have observations with a single feature that are not normally distributed.  This will demonstrate two additional shortcomings of the standard approach to anomaly detection.  First, we’ll have to manually manipulate the data to ‘look’ normal.  Second, there is no simple way to encode pre-existing knowledge about the distributions into the model.\n",
    "\n",
    "Imagine that our observations can only take on positive values, which is a common restriction. For simplicity, let's use the same observations we used earlier, but we'll simply drop all negative observations."
   ]
  },
  {
   "cell_type": "code",
   "execution_count": 23,
   "metadata": {},
   "outputs": [
    {
     "data": {
      "image/png": "[encoded data removed]",
      "text/plain": [
       "<Figure size 432x288 with 1 Axes>"
      ]
     },
     "metadata": {},
     "output_type": "display_data"
    }
   ],
   "source": [
    "X2 = X1[X1 > 0]\n",
    "plt.hist(X2, bins=30)\n",
    "plt.xlim(-50, 50)\n",
    "plt.show()"
   ]
  },
  {
   "cell_type": "markdown",
   "metadata": {},
   "source": [
    "Just looking at the data, it seems that it no longer makes sense to model these observations as normally distributed.  Let's see what happens if we do try to model this as a normal distribution:"
   ]
  },
  {
   "cell_type": "code",
   "execution_count": 24,
   "metadata": {},
   "outputs": [
    {
     "data": {
      "image/png": "[encoded data removed]",
      "text/plain": [
       "<Figure size 432x288 with 1 Axes>"
      ]
     },
     "metadata": {},
     "output_type": "display_data"
    },
    {
     "name": "stdout",
     "output_type": "stream",
     "text": [
      "Lower Bound:"
     ]
    },
    {
     "name": "stdout",
     "output_type": "stream",
     "text": [
      " "
     ]
    },
    {
     "name": "stdout",
     "output_type": "stream",
     "text": [
      "-8.864199297811245"
     ]
    },
    {
     "name": "stdout",
     "output_type": "stream",
     "text": [
      "\n"
     ]
    },
    {
     "name": "stdout",
     "output_type": "stream",
     "text": [
      "Upper Bound:"
     ]
    },
    {
     "name": "stdout",
     "output_type": "stream",
     "text": [
      " "
     ]
    },
    {
     "name": "stdout",
     "output_type": "stream",
     "text": [
      "31.983896877339994"
     ]
    },
    {
     "name": "stdout",
     "output_type": "stream",
     "text": [
      "\n"
     ]
    }
   ],
   "source": [
    "sample_mean = X2.mean()\n",
    "sample_sigma = X2.std()\n",
    "base = np.linspace(-50, 50, 100)\n",
    "normal = sp.stats.norm.pdf(base, sample_mean, sample_sigma)\n",
    "lower_bound = sample_mean - (2.58 * sample_sigma)\n",
    "upper_bound = sample_mean + (2.58 * sample_sigma)\n",
    "anomalous = np.logical_or(base < [lower_bound]*100, base > [upper_bound]*100)\n",
    "\n",
    "plt.hist(X2, bins=30, normed=True, zorder=1)\n",
    "plt.fill_between(base, normal, where=anomalous, color=[1, 0, 0, 0.4], zorder=2)\n",
    "plt.plot(base, normal, color='black', zorder=3)\n",
    "plt.xlim(-50, 50)\n",
    "plt.show()\n",
    "print('Lower Bound:', lower_bound)\n",
    "print('Upper Bound:', upper_bound)"
   ]
  },
  {
   "cell_type": "markdown",
   "metadata": {},
   "source": [
    "Clearly this distribution does not fit our data!  Most obviously, it wouldn't declare an observation anomalous until it was less than ~ -8.9, while we already know that anything less than 0 is highly anomalous.  When we get into bayesian analysis and probabilistic programming we'll see how we can encode this prior knowledge into our models.\n",
    "\n",
    "In the meanwhile, one common work around is to transform the observations until they look vaguely like they come from a normal distribution.  Common approaches for positive distributions include taking the logarithm of every observation, or raising it to a power less than 1.  With this data, it turns out that raising each observation to 0.55 produces something roughly normal.\n",
    "\n",
    "Though this is common practice, especially in low-lift anomaly detection systems, eyeballing distribution transformations should make you suspicious.  It results in haphazard analysis and fuzzy statistical reasoning.  Again, probabilistic programming will give us the tools to make sure that all parameters we use in our model are calculated using legitimate statistical methods."
   ]
  },
  {
   "cell_type": "code",
   "execution_count": 25,
   "metadata": {},
   "outputs": [
    {
     "data": {
      "image/png": "[encoded data removed]",
      "text/plain": [
       "<Figure size 432x288 with 1 Axes>"
      ]
     },
     "metadata": {},
     "output_type": "display_data"
    }
   ],
   "source": [
    "X3 = X2 ** 0.55\n",
    "plt.hist(X3, bins=30)\n",
    "plt.show()"
   ]
  },
  {
   "cell_type": "code",
   "execution_count": 27,
   "metadata": {},
   "outputs": [
    {
     "data": {
      "image/png": "[encoded data removed]",
      "text/plain": [
       "<Figure size 432x288 with 1 Axes>"
      ]
     },
     "metadata": {},
     "output_type": "display_data"
    },
    {
     "name": "stdout",
     "output_type": "stream",
     "text": [
      "Lower Bound:"
     ]
    },
    {
     "name": "stdout",
     "output_type": "stream",
     "text": [
      " "
     ]
    },
    {
     "name": "stdout",
     "output_type": "stream",
     "text": [
      "-0.2523023180285473"
     ]
    },
    {
     "name": "stdout",
     "output_type": "stream",
     "text": [
      "\n"
     ]
    },
    {
     "name": "stdout",
     "output_type": "stream",
     "text": [
      "Upper Bound:"
     ]
    },
    {
     "name": "stdout",
     "output_type": "stream",
     "text": [
      " "
     ]
    },
    {
     "name": "stdout",
     "output_type": "stream",
     "text": [
      "7.442065881514468"
     ]
    },
    {
     "name": "stdout",
     "output_type": "stream",
     "text": [
      "\n"
     ]
    }
   ],
   "source": [
    "sample_mean = X3.mean()\n",
    "sample_sigma = X3.std()\n",
    "base = np.linspace(-50, 50, 100)\n",
    "normal = sp.stats.norm.pdf(base, sample_mean, sample_sigma)\n",
    "lower_bound = sample_mean - (2.58 * sample_sigma)\n",
    "upper_bound = sample_mean + (2.58 * sample_sigma)\n",
    "anomalous = np.logical_or(base < [lower_bound]*100, base > [upper_bound]*100)\n",
    "\n",
    "plt.hist(X3, bins=10, normed=True, zorder=1)\n",
    "plt.fill_between(base, normal, where=anomalous, color=[1, 0, 0, 0.4], zorder=2)\n",
    "plt.plot(base, normal, color='black', zorder=3)\n",
    "plt.xlim(-50, 50)\n",
    "plt.show()\n",
    "print('Lower Bound:', lower_bound)\n",
    "print('Upper Bound:', upper_bound)"
   ]
  },
  {
   "cell_type": "markdown",
   "metadata": {},
   "source": [
    "### Multiple Independently Distributed Normal Variables\n",
    "\n",
    "So far we've only been looking at observations with a single feature. We'll now expand our analysis to multiple variables. Initially we will assume that they are independently normal distributed. That is, that each feature is normally distributed, and there is no correlation between them.  Though this is still a simple example, this simple multi-dimensional case will set the stage for evaluating how the traditional methods of anomaly detection perform on more realistic data. "
   ]
  },
  {
   "cell_type": "code",
   "execution_count": 28,
   "metadata": {},
   "outputs": [
    {
     "name": "stderr",
     "output_type": "stream",
     "text": [
      "'c' argument looks like a single numeric RGB or RGBA sequence, which should be avoided as value-mapping will have precedence in case its length matches with 'x' & 'y'.  Please use a 2-D array with a single row if you really want to specify the same RGB or RGBA value for all points."
     ]
    },
    {
     "name": "stderr",
     "output_type": "stream",
     "text": [
      "\n"
     ]
    },
    {
     "data": {
      "image/png": "[encoded data removed]",
      "text/plain": [
       "<Figure size 432x288 with 1 Axes>"
      ]
     },
     "metadata": {},
     "output_type": "display_data"
    }
   ],
   "source": [
    "N = 1000\n",
    "X1 = np.random.normal(4, 12, N)\n",
    "X2 = np.random.normal(9, 5, N)\n",
    "plt.scatter(X1, X2, c=plotBlue, s=5)\n",
    "plt.show()"
   ]
  },
  {
   "cell_type": "code",
   "execution_count": 29,
   "metadata": {},
   "outputs": [
    {
     "name": "stdout",
     "output_type": "stream",
     "text": [
      "Sample Mean 1:"
     ]
    },
    {
     "name": "stdout",
     "output_type": "stream",
     "text": [
      " "
     ]
    },
    {
     "name": "stdout",
     "output_type": "stream",
     "text": [
      "3.0795712898444316"
     ]
    },
    {
     "name": "stdout",
     "output_type": "stream",
     "text": [
      "\n"
     ]
    },
    {
     "name": "stdout",
     "output_type": "stream",
     "text": [
      "Sample Mean 2:"
     ]
    },
    {
     "name": "stdout",
     "output_type": "stream",
     "text": [
      " "
     ]
    },
    {
     "name": "stdout",
     "output_type": "stream",
     "text": [
      "9.020050102068952"
     ]
    },
    {
     "name": "stdout",
     "output_type": "stream",
     "text": [
      "\n"
     ]
    },
    {
     "name": "stdout",
     "output_type": "stream",
     "text": [
      "Sample Standard Deviation 1:"
     ]
    },
    {
     "name": "stdout",
     "output_type": "stream",
     "text": [
      " "
     ]
    }
   ],
   "source": [
    "x1_sample_mean = X1.mean()\n",
    "x2_sample_mean = X2.mean()\n",
    "x1_sample_sigma = X1.std()\n",
    "x2_sample_sigma = X2.std()\n",
    "print('Sample Mean 1:', x1_sample_mean)\n",
    "print('Sample Mean 2:', x2_sample_mean)\n",
    "print('Sample Standard Deviation 1:', x1_sample_sigma)\n",
    "print('Sample Standard Deviation 2:', x2_sample_sigma)"
   ]
  },
  {
   "cell_type": "markdown",
   "metadata": {},
   "source": [
    "As we would expect, these are not far from the actual values we used to generate the data.\n",
    "\n",
    "Next, let's look at a heatmap of where we would expect to find observations given the joint probability distributions implied by these distributions."
   ]
  },
  {
   "cell_type": "code",
   "execution_count": 30,
   "metadata": {},
   "outputs": [
    {
     "data": {
      "image/png": "[encoded data removed]",
      "text/plain": [
       "<Figure size 432x288 with 1 Axes>"
      ]
     },
     "metadata": {},
     "output_type": "display_data"
    }
   ],
   "source": [
    "delta = 0.3\n",
    "x1 = np.arange(-40, 50, delta)\n",
    "x2 = np.arange(-40, 50, delta)\n",
    "x, y = np.meshgrid(x1, x2)\n",
    "z = plt.mlab.bivariate_normal(x, y, x1_sample_sigma, x2_sample_sigma, x1_sample_mean, x2_sample_mean)\n",
    "plt.contourf(x, y, z, cmap='Blues_r')\n",
    "thinned_points = np.array([n in np.random.choice(N, 300) for n in range(N)])\n",
    "plt.scatter(X1[thinned_points], X2[thinned_points], c='red', s=2)\n",
    "plt.show()"
   ]
  },
  {
   "cell_type": "markdown",
   "metadata": {},
   "source": [
    "Because the two variables are independent, we get this nice concentric circle shape, where as we move in towards the means, we're increasingly likely to draw an observation with those features. As we move away, we're less likely to see an observation with features at those values. We might, for instance, decide that anything in the dark-blue region is anomalous.\n",
    "\n",
    "Note that because the distribution of the vertical feature has a smaller variance, the area of high probability is much thinner vertically than it is horizontally."
   ]
  },
  {
   "cell_type": "markdown",
   "metadata": {},
   "source": [
    "### Multiple Jointly Distributed Features\n",
    "\n",
    "In this section, we’ll look at some slightly more realistic data.  We will try to use some of the methods we’ve built up to this point to tackle this more complex data.  \n",
    "\n",
    "To build up more of an intuition of what’s going on, let's say that we're observing database transactions, and for each observation we record the latency and the average number of concurrent connections over the course of the transaction.\n",
    "\n",
    "We expect these to be positively correlated - the database takes longer to process any given query as the number of active connections grows.  \n",
    "\n",
    "We also know that neither of these features can be negative - you cannot have fewer than zero connections to the database, and you cannot finish a transaction before you start it (negative latency)."
   ]
  },
  {
   "cell_type": "code",
   "execution_count": 31,
   "metadata": {},
   "outputs": [
    {
     "data": {
      "image/png": "[encoded data removed]",
      "text/plain": [
       "<Figure size 432x432 with 3 Axes>"
      ]
     },
     "metadata": {},
     "output_type": "display_data"
    }
   ],
   "source": [
    "def positive_support_normal(mean, sigma, n):\n",
    "    xs = np.random.normal(mean, sigma, n)\n",
    "    for i, num in enumerate(xs):\n",
    "        while num < 0:\n",
    "            num = np.random.normal(mean[i], sigma)\n",
    "        xs[i] = num\n",
    "    return xs\n",
    "    \n",
    "N = 1000\n",
    "\n",
    "mu_cons = 10\n",
    "sigma_cons = 6\n",
    "sigma_latency = 20\n",
    "beta = 3\n",
    "\n",
    "cons = positive_support_normal(np.array([mu_cons]*N), sigma_cons, N)\n",
    "latency = positive_support_normal(beta * cons, sigma_latency, N)\n",
    "ax = sns.jointplot('cons', 'latency', pd.DataFrame({'cons': cons, 'latency': latency}))"
   ]
  },
  {
   "cell_type": "markdown",
   "metadata": {},
   "source": [
    "Now if we use our previous method - where we treat each feature as independently normally distributed - to think about the probability of finding observations with a particular combination of features, we'll see something like this:"
   ]
  },
  {
   "cell_type": "code",
   "execution_count": 32,
   "metadata": {},
   "outputs": [
    {
     "data": {
      "image/png": "[encoded data removed]",
      "text/plain": [
       "<Figure size 432x288 with 1 Axes>"
      ]
     },
     "metadata": {},
     "output_type": "display_data"
    }
   ],
   "source": [
    "delta = 0.025\n",
    "x1 = np.arange(-5, 35, delta)\n",
    "x2 = np.arange(-20, 140, delta)\n",
    "x, y = np.meshgrid(x1, x2)\n",
    "z = plt.mlab.bivariate_normal(x, y, cons.std(), latency.std(), cons.mean(), latency.mean())\n",
    "plt.contourf(x, y, z, cmap='Blues_r')\n",
    "plt.scatter(cons, latency, c='red', s=4)\n",
    "plt.ylabel('Latency')\n",
    "plt.xlabel('Connections')\n",
    "plt.show()"
   ]
  },
  {
   "cell_type": "markdown",
   "metadata": {},
   "source": [
    "The problem is that we're missing something about the relationship between the two features.  We _know_ that latency depends on the number of concurrent connections, but it's difficult to account for that in our model.\n",
    "\n",
    "There are a few ways to address this issue.  For example, we could engineer a new feature from the existing data that might capture some of the correlation between the two, and treat that as independently normally distributed as well. Alternatively, we could use the observed data to estimate the covariance relation between the two features and keep trying to model them as a multivariate normal distribution.\n",
    "\n",
    "Any of these steps quickly get complicated and, more importantly, imprecise.  So far we've only explored relatively simple distributions with very small numbers of features.  Each feature needs to be  be transformed somehow to the normal.  We might need to build new features by hand to improve our models properties, and most often we'll assume that if features are correlated, they at least have joint normal distributions.\n",
    "\n",
    "Assumptions about distributions are a good place to start, but we should be able to learn from the data in a more robust and systematic way than eyeballing the value of added features or distribution transformations.\n",
    "\n",
    "That's exactly where Bayesian modeling and probabilistic programming come in."
   ]
  },
  {
   "cell_type": "markdown",
   "metadata": {},
   "source": [
    "Bayesian modeling is a way of calculating the likelihood of some observation, given the data you've already seen.  It allows you to declare your statistical beliefs about what your data _should_ look like before you look at the data.  These beliefs are known as 'priors'.  You can declare one for each of the parameters you're interested in estimating. Bayesian modeling looks at these priors and the observed data, and calculates a distribution for each of those parameters.  These are known as 'posterior distributions'.  \n",
    "\n",
    "Part of the benefit of probabilistic programming, relative to comparable Bayesian modeling in the past, is that you don't need to know anything about how that calculation happens.\n",
    "\n",
    "### Probabilistic Programming\n",
    "\n",
    "Roughly speaking, the steps involved in probabilistic programming are as follows:\n",
    "\n",
    "1. Declare your prior beliefs about what the data looks like.\n",
    "2. Feed in your data.\n",
    "3. A sampling algorithm will return a posterior distribution for each of the parameters in your model.\n",
    "\n",
    "Probabilistic programming languages enable you to state your priors beliefs and your model with elegant, statistical syntax.  \n",
    "\n",
    "The more data you have to learn from, the less your prior beliefs matter, and generally the tighter the distributions you'll get for your model parameters.\n",
    "\n",
    "There are several advantages here.  First, you get a formal way to encode your knowledge about the data into your model.  As we saw earlier, this is especially useful when you know that there is no chance at all of certain observations.\n",
    "\n",
    "Second, there are no limitations on which distributions we can use to model our world, or on the hierarchical relations we claim they have.  Which  means, among other things, that and we don't have to estimate data manipulations to make things look right.\n",
    "\n",
    "Third, we get to propagate our uncertainty.  For example, instead of simply estimating the mean of the population distribution as the sample mean, we estimate the population mean as a distribution itself, and the nature of this uncertainty will affect our final model of the data.\n",
    "\n",
    "It's simpler than ever to build a complex model of the world."
   ]
  },
  {
   "cell_type": "markdown",
   "metadata": {},
   "source": [
    "## Graded Part"
   ]
  },
  {
   "cell_type": "markdown",
   "metadata": {},
   "source": [
    "[PyMC Linear Regression example](https://docs.pymc.io/notebooks/GLM-linear.html)"
   ]
  },
  {
   "cell_type": "code",
   "execution_count": 33,
   "metadata": {},
   "outputs": [],
   "source": [
    "%matplotlib inline\n",
    "%qtconsole --colors=linux\n",
    "\n",
    "import warnings\n",
    "warnings.filterwarnings('ignore')"
   ]
  },
  {
   "cell_type": "code",
   "execution_count": 34,
   "metadata": {
    "scrolled": true
   },
   "outputs": [],
   "source": [
    "import numpy as np\n",
    "import pandas as pd\n",
    "import matplotlib.pyplot as plt\n",
    "import seaborn as sns\n",
    "\n",
    "from scipy import optimize\n",
    "import pymc3 as pm\n",
    "import theano as thno\n",
    "import theano.tensor as T \n",
    "\n",
    "sns.set(style=\"darkgrid\", palette=\"muted\")\n",
    "pd.set_option('display.notebook_repr_html', True)\n",
    "plt.rcParams['figure.figsize'] = 12, 8\n",
    "np.random.seed(0)"
   ]
  },
  {
   "cell_type": "code",
   "execution_count": 35,
   "metadata": {},
   "outputs": [],
   "source": [
    "dfhogg = pd.DataFrame(np.array([[1, 201, 592, 61, 9, -0.84],\n",
    "                                 [2, 244, 401, 25, 4, 0.31],\n",
    "                                 [3, 47, 583, 38, 11, 0.64],\n",
    "                                 [4, 287, 402, 15, 7, -0.27],\n",
    "                                 [5, 203, 495, 21, 5, -0.33],\n",
    "                                 [6, 58, 173, 15, 9, 0.67],\n",
    "                                 [7, 210, 479, 27, 4, -0.02],\n",
    "                                 [8, 202, 504, 14, 4, -0.05],\n",
    "                                 [9, 198, 510, 30, 11, -0.84],\n",
    "                                 [10, 158, 416, 16, 7, -0.69],\n",
    "                                 [11, 165, 393, 14, 5, 0.30],\n",
    "                                 [12, 201, 442, 25, 5, -0.46],\n",
    "                                 [13, 157, 317, 52, 5, -0.03],\n",
    "                                 [14, 131, 311, 16, 6, 0.50],\n",
    "                                 [15, 166, 400, 34, 6, 0.73],\n",
    "                                 [16, 160, 337, 31, 5, -0.52],\n",
    "                                 [17, 186, 423, 42, 9, 0.90],\n",
    "                                 [18, 125, 334, 26, 8, 0.40],\n",
    "                                 [19, 218, 533, 16, 6, -0.78],\n",
    "                                 [20, 146, 344, 22, 5, -0.56]]),\n",
    "                   columns=['id','x','y','sigma_y','sigma_x','rho_xy'])"
   ]
  },
  {
   "cell_type": "code",
   "execution_count": 36,
   "metadata": {},
   "outputs": [],
   "source": [
    "dfhogg['id'] = dfhogg['id'] - 1\n",
    "dfhogg.set_index('id', inplace=True)"
   ]
  },
  {
   "cell_type": "code",
   "execution_count": 37,
   "metadata": {},
   "outputs": [],
   "source": [
    "## standardize (mean center and divide by 1 sd)\n",
    "dfhoggs = (dfhogg[['x', 'y']] - dfhogg[['x', 'y']].mean(0)) / dfhogg[['x', 'y']].std(0)\n",
    "dfhoggs[\"sigma_y\"] = dfhogg[\"sigma_y\"] / dfhogg['y'].std(0)\n",
    "dfhoggs[\"sigma_x\"] = dfhogg[\"sigma_x\"] / dfhogg['x'].std(0)"
   ]
  },
  {
   "cell_type": "code",
   "execution_count": 38,
   "metadata": {},
   "outputs": [],
   "source": [
    "xlims = (dfhoggs['x'].min() - np.ptp(dfhoggs['x'])/5\n",
    "                 ,dfhoggs['x'].max() + np.ptp(dfhoggs['x'])/5)\n",
    "ylims = (dfhoggs['y'].min() - np.ptp(dfhoggs['y'])/5\n",
    "                 ,dfhoggs['y'].max() + np.ptp(dfhoggs['y'])/5)"
   ]
  },
  {
   "cell_type": "code",
   "execution_count": 39,
   "metadata": {},
   "outputs": [
    {
     "data": {
      "image/png": "[encoded data removed]",
      "text/plain": [
       "<Figure size 576x576 with 1 Axes>"
      ]
     },
     "metadata": {},
     "output_type": "display_data"
    }
   ],
   "source": [
    "g = sns.FacetGrid(dfhoggs, size=8)\n",
    "_ = g.map(plt.errorbar, 'x', 'y', 'sigma_y', 'sigma_x', marker=\"o\", ls='')\n",
    "_ = g.axes[0][0].set_ylim(ylims)\n",
    "_ = g.axes[0][0].set_xlim(xlims)\n",
    "\n",
    "plt.subplots_adjust(top=0.92)\n",
    "_ = g.fig.suptitle('Scatterplot of Hogg 2010 dataset after standardization', fontsize=16)"
   ]
  },
  {
   "cell_type": "markdown",
   "metadata": {},
   "source": [
    "### Create Conventional OLS Model"
   ]
  },
  {
   "cell_type": "markdown",
   "metadata": {},
   "source": [
    "The *linear model* is really simple and conventional:\n",
    "\n",
    "$$\\bf{y} = \\beta^{T} \\bf{X} + \\bf{\\sigma}$$\n",
    "\n",
    "where:  \n",
    "\n",
    "$\\beta$ = coefs = $\\{1, \\beta_{j \\in X_{j}}\\}$  \n",
    "$\\sigma$ = the measured error in $y$ in the dataset `sigma_y`"
   ]
  },
  {
   "cell_type": "markdown",
   "metadata": {},
   "source": [
    "##### Define model\n",
    "\n",
    "**NOTE:**\n",
    "+ We're using a simple linear OLS model with Normally distributed priors so that it behaves like a ridge regression"
   ]
  },
  {
   "cell_type": "code",
   "execution_count": 40,
   "metadata": {},
   "outputs": [],
   "source": [
    "with pm.Model() as mdl_ols:\n",
    "    \n",
    "    ## Define weakly informative Normal priors to give Ridge regression\n",
    "    b0 = pm.Normal('b0_intercept', mu=0, sd=100)\n",
    "    b1 = pm.Normal('b1_slope', mu=0, sd=100)\n",
    " \n",
    "    ## Define linear model\n",
    "    yest = b0 + b1 * dfhoggs['x']\n",
    "    \n",
    "    ## Use y error from dataset, convert into theano variable\n",
    "    sigma_y = thno.shared(np.asarray(dfhoggs['sigma_y'],\n",
    "                            dtype=thno.config.floatX), name='sigma_y')\n",
    "\n",
    "    ## Define Normal likelihood:\n",
    "    ## mu = yest\n",
    "    ## sd = sigma_y\n",
    "    ## odserved = dfhoggs.y\n",
    "    likelihood = pm.Normal('likelihood',  mu=yest, sd=sigma_y, observed=dfhoggs['y'])"
   ]
  },
  {
   "cell_type": "code",
   "execution_count": 41,
   "metadata": {},
   "outputs": [
    {
     "name": "stderr",
     "output_type": "stream",
     "text": [
      "\r  0%|                                                                                         | 0/5000 [00:00<?, ?it/s]"
     ]
    },
    {
     "name": "stderr",
     "output_type": "stream",
     "text": [
      "\rlogp = -248.97:   0%|                                                                         | 0/5000 [00:00<?, ?it/s]"
     ]
    },
    {
     "name": "stderr",
     "output_type": "stream",
     "text": [
      "\rlogp = -154.74:   0%|▏                                                              | 10/5000 [00:00<00:04, 999.31it/s]"
     ]
    },
    {
     "name": "stderr",
     "output_type": "stream",
     "text": [
      "\rlogp = -145.8:   0%|▎                                                              | 20/5000 [00:00<00:04, 1052.67it/s]"
     ]
    },
    {
     "name": "stderr",
     "output_type": "stream",
     "text": [
      "\rlogp = -387.53:   1%|▎                                                             | 30/5000 [00:00<00:04, 1111.02it/s]"
     ]
    },
    {
     "name": "stderr",
     "output_type": "stream",
     "text": [
      "\rlogp = -145.8:   1%|▌                                                              | 40/5000 [00:00<00:04, 1111.18it/s]"
     ]
    },
    {
     "name": "stderr",
     "output_type": "stream",
     "text": [
      "\rlogp = -778.17:   1%|▌                                                             | 50/5000 [00:00<00:04, 1162.75it/s]"
     ]
    },
    {
     "name": "stderr",
     "output_type": "stream",
     "text": [
      "\rlogp = -145.78:   1%|▋                                                             | 60/5000 [00:00<00:04, 1199.95it/s]"
     ]
    },
    {
     "name": "stderr",
     "output_type": "stream",
     "text": [
      "\rlogp = -145.78:   1%|▊                                                             | 70/5000 [00:00<00:04, 1147.48it/s]"
     ]
    },
    {
     "name": "stderr",
     "output_type": "stream",
     "text": [
      "\rlogp = -145.78:   2%|▉                                                             | 80/5000 [00:00<00:04, 1176.44it/s]"
     ]
    },
    {
     "name": "stderr",
     "output_type": "stream",
     "text": [
      "\rlogp = -145.78:   2%|█                                                             | 90/5000 [00:00<00:04, 1153.89it/s]"
     ]
    },
    {
     "name": "stdout",
     "output_type": "stream",
     "text": [
      "Optimization terminated successfully."
     ]
    },
    {
     "name": "stdout",
     "output_type": "stream",
     "text": [
      "\n"
     ]
    },
    {
     "name": "stdout",
     "output_type": "stream",
     "text": [
      "         Current function value: 145.777745"
     ]
    },
    {
     "name": "stdout",
     "output_type": "stream",
     "text": [
      "\n"
     ]
    },
    {
     "name": "stdout",
     "output_type": "stream",
     "text": [
      "         Iterations: 3"
     ]
    },
    {
     "name": "stdout",
     "output_type": "stream",
     "text": [
      "\n"
     ]
    },
    {
     "name": "stdout",
     "output_type": "stream",
     "text": [
      "         Function evaluations: 100"
     ]
    },
    {
     "name": "stdout",
     "output_type": "stream",
     "text": [
      "\n"
     ]
    },
    {
     "name": "stderr",
     "output_type": "stream",
     "text": [
      "\rlogp = -145.78:   2%|█▎                                                             | 100/5000 [00:01<00:52, 93.11it/s]"
     ]
    },
    {
     "name": "stderr",
     "output_type": "stream",
     "text": [
      "\n"
     ]
    },
    {
     "name": "stderr",
     "output_type": "stream",
     "text": [
      "Multiprocess sampling (2 chains in 2 jobs)"
     ]
    },
    {
     "name": "stderr",
     "output_type": "stream",
     "text": [
      "\n"
     ]
    },
    {
     "name": "stderr",
     "output_type": "stream",
     "text": [
      "NUTS: [b1_slope, b0_intercept]"
     ]
    },
    {
     "name": "stderr",
     "output_type": "stream",
     "text": [
      "\n"
     ]
    },
    {
     "name": "stderr",
     "output_type": "stream",
     "text": [
      "Could not pickle model, sampling singlethreaded."
     ]
    },
    {
     "name": "stderr",
     "output_type": "stream",
     "text": [
      "\n"
     ]
    },
    {
     "name": "stderr",
     "output_type": "stream",
     "text": [
      "Sequential sampling (2 chains in 1 job)"
     ]
    },
    {
     "name": "stderr",
     "output_type": "stream",
     "text": [
      "\n"
     ]
    },
    {
     "name": "stderr",
     "output_type": "stream",
     "text": [
      "NUTS: [b1_slope, b0_intercept]"
     ]
    },
    {
     "name": "stderr",
     "output_type": "stream",
     "text": [
      "\n"
     ]
    },
    {
     "name": "stderr",
     "output_type": "stream",
     "text": [
      "\r  0%|                                                                                         | 0/2500 [00:00<?, ?it/s]"
     ]
    },
    {
     "name": "stderr",
     "output_type": "stream",
     "text": [
      "\r  1%|▍                                                                              | 15/2500 [00:00<00:17, 145.64it/s]Exception in thread QueueFeederThread:\nTraceback (most recent call last):\n  File \"C:\\Users\\Alex\\Anaconda3\\lib\\site-packages\\joblib\\externals\\loky\\backend\\queues.py\", line 150, in _feed\n    obj_ = dumps(obj, reducers=reducers)\n  File \"C:\\Users\\Alex\\Anaconda3\\lib\\site-packages\\joblib\\externals\\loky\\backend\\reduction.py\", line 243, in dumps\n    dump(obj, buf, reducers=reducers, protocol=protocol)\n  File \"C:\\Users\\Alex\\Anaconda3\\lib\\site-packages\\joblib\\externals\\loky\\backend\\reduction.py\", line 236, in dump\n    _LokyPickler(file, reducers=reducers, protocol=protocol).dump(obj)\n  File \"C:\\Users\\Alex\\Anaconda3\\lib\\site-packages\\joblib\\externals\\cloudpickle\\cloudpickle.py\", line 267, in dump\n    return Pickler.dump(self, obj)\n  File \"C:\\Users\\Alex\\Anaconda3\\lib\\pickle.py\", line 409, in dump\n    self.save(obj)\n  File \"C:\\Users\\Alex\\Anaconda3\\lib\\pickle.py\", line 521, in save\n    self.save_reduce(obj=obj, *rv)\n  File \"C:\\Users\\Alex\\Anaconda3\\lib\\pickle.py\", line 634, in save_reduce\n    save(state)\n  File \"C:\\Users\\Alex\\Anaconda3\\lib\\pickle.py\", line 476, in save\n    f(self, obj) # Call unbound method with explicit self\n  File \"C:\\Users\\Alex\\Anaconda3\\lib\\pickle.py\", line 821, in save_dict\n    self._batch_setitems(obj.items())\n  File \"C:\\Users\\Alex\\Anaconda3\\lib\\pickle.py\", line 847, in _batch_setitems\n    save(v)\n  File \"C:\\Users\\Alex\\Anaconda3\\lib\\pickle.py\", line 521, in save\n    self.save_reduce(obj=obj, *rv)\n  File \"C:\\Users\\Alex\\Anaconda3\\lib\\pickle.py\", line 634, in save_reduce\n    save(state)\n  File \"C:\\Users\\Alex\\Anaconda3\\lib\\pickle.py\", line 476, in save\n    f(self, obj) # Call unbound method with explicit self\n  File \"C:\\Users\\Alex\\Anaconda3\\lib\\pickle.py\", line 821, in save_dict\n    self._batch_setitems(obj.items())\n  File \"C:\\Users\\Alex\\Anaconda3\\lib\\pickle.py\", line 852, in _batch_setitems\n    save(v)\n  File \"C:\\Users\\Alex\\Anaconda3\\lib\\pickle.py\", line 521, in save\n    self.save_reduce(obj=obj, *rv)\n  File \"C:\\Users\\Alex\\Anaconda3\\lib\\pickle.py\", line 634, in save_reduce\n    save(state)\n  File \"C:\\Users\\Alex\\Anaconda3\\lib\\pickle.py\", line 476, in save\n    f(self, obj) # Call unbound method with explicit self\n  File \"C:\\Users\\Alex\\Anaconda3\\lib\\pickle.py\", line 821, in save_dict\n    self._batch_setitems(obj.items())\n  File \"C:\\Users\\Alex\\Anaconda3\\lib\\pickle.py\", line 847, in _batch_setitems\n    save(v)\n  File \"C:\\Users\\Alex\\Anaconda3\\lib\\pickle.py\", line 476, in save\n    f(self, obj) # Call unbound method with explicit self\n  File \"C:\\Users\\Alex\\Anaconda3\\lib\\pickle.py\", line 781, in save_list\n    self._batch_appends(obj)\n  File \"C:\\Users\\Alex\\Anaconda3\\lib\\pickle.py\", line 808, in _batch_appends\n    save(tmp[0])\n  File \"C:\\Users\\Alex\\Anaconda3\\lib\\pickle.py\", line 476, in save\n    f(self, obj) # Call unbound method with explicit self\n  File \"C:\\Users\\Alex\\Anaconda3\\lib\\pickle.py\", line 736, in save_tuple\n    save(element)\n  File \"C:\\Users\\Alex\\Anaconda3\\lib\\pickle.py\", line 476, in save\n    f(self, obj) # Call unbound method with explicit self\n  File \"C:\\Users\\Alex\\Anaconda3\\lib\\pickle.py\", line 821, in save_dict\n    self._batch_setitems(obj.items())\n  File \"C:\\Users\\Alex\\Anaconda3\\lib\\pickle.py\", line 847, in _batch_setitems\n    save(v)\n  File \"C:\\Users\\Alex\\Anaconda3\\lib\\pickle.py\", line 521, in save\n    self.save_reduce(obj=obj, *rv)\n  File \"C:\\Users\\Alex\\Anaconda3\\lib\\pickle.py\", line 634, in save_reduce\n    save(state)\n  File \"C:\\Users\\Alex\\Anaconda3\\lib\\pickle.py\", line 476, in save\n    f(self, obj) # Call unbound method with explicit self\n  File \"C:\\Users\\Alex\\Anaconda3\\lib\\pickle.py\", line 821, in save_dict\n    self._batch_setitems(obj.items())\n  File \"C:\\Users\\Alex\\Anaconda3\\lib\\pickle.py\", line 847, in _batch_setitems\n    save(v)\n  File \"C:\\Users\\Alex\\Anaconda3\\lib\\pickle.py\", line 521, in save\n    self.save_reduce(obj=obj, *rv)\n  File \"C:\\Users\\Alex\\Anaconda3\\lib\\pickle.py\", line 634, in save_reduce\n    save(state)\n  File \"C:\\Users\\Alex\\Anaconda3\\lib\\pickle.py\", line 476, in save\n    f(self, obj) # Call unbound method with explicit self\n  File \"C:\\Users\\Alex\\Anaconda3\\lib\\pickle.py\", line 821, in save_dict\n    self._batch_setitems(obj.items())\n  File \"C:\\Users\\Alex\\Anaconda3\\lib\\pickle.py\", line 847, in _batch_setitems\n    save(v)\n  File \"C:\\Users\\Alex\\Anaconda3\\lib\\pickle.py\", line 521, in save\n    self.save_reduce(obj=obj, *rv)\n  File \"C:\\Users\\Alex\\Anaconda3\\lib\\pickle.py\", line 634, in save_reduce\n    save(state)\n  File \"C:\\Users\\Alex\\Anaconda3\\lib\\pickle.py\", line 476, in save\n    f(self, obj) # Call unbound method with explicit self\n  File \"C:\\Users\\Alex\\Anaconda3\\lib\\pickle.py\", line 821, in save_dict\n    self._batch_setitems(obj.items())\n  File \"C:\\Users\\Alex\\Anaconda3\\lib\\pickle.py\", line 847, in _batch_setitems\n    save(v)\n  File \"C:\\Users\\Alex\\Anaconda3\\lib\\pickle.py\", line 496, in save\n    rv = reduce(self.proto)\nTypeError: can't pickle CVM objects\n\nDuring handling of the above exception, another exception occurred:\n\nTraceback (most recent call last):\n  File \"C:\\Users\\Alex\\Anaconda3\\lib\\threading.py\", line 916, in _bootstrap_inner\n    self.run()\n  File \"C:\\Users\\Alex\\Anaconda3\\lib\\threading.py\", line 864, in run\n    self._target(*self._args, **self._kwargs)\n  File \"C:\\Users\\Alex\\Anaconda3\\lib\\site-packages\\joblib\\externals\\loky\\backend\\queues.py\", line 175, in _feed\n    onerror(e, obj)\n  File \"C:\\Users\\Alex\\Anaconda3\\lib\\site-packages\\joblib\\externals\\loky\\process_executor.py\", line 310, in _on_queue_feeder_error\n    self.thread_wakeup.wakeup()\n  File \"C:\\Users\\Alex\\Anaconda3\\lib\\site-packages\\joblib\\externals\\loky\\process_executor.py\", line 155, in wakeup\n    self._writer.send_bytes(b\"\")\n  File \"C:\\Users\\Alex\\Anaconda3\\lib\\multiprocessing\\connection.py\", line 183, in send_bytes\n    self._check_closed()\n  File \"C:\\Users\\Alex\\Anaconda3\\lib\\multiprocessing\\connection.py\", line 136, in _check_closed\n    raise OSError(\"handle is closed\")\nOSError: handle is closed\n"
     ]
    },
    {
     "name": "stderr",
     "output_type": "stream",
     "text": [
      "\n"
     ]
    },
    {
     "name": "stderr",
     "output_type": "stream",
     "text": [
      "\r  2%|█▎                                                                             | 41/2500 [00:00<00:14, 165.22it/s]"
     ]
    },
    {
     "name": "stderr",
     "output_type": "stream",
     "text": [
      "\r  3%|██▏                                                                            | 68/2500 [00:00<00:13, 185.83it/s]"
     ]
    },
    {
     "name": "stderr",
     "output_type": "stream",
     "text": [
      "\r  4%|███▏                                                                          | 104/2500 [00:00<00:11, 210.88it/s]"
     ]
    },
    {
     "name": "stderr",
     "output_type": "stream",
     "text": [
      "\r  6%|████▊                                                                         | 155/2500 [00:00<00:09, 255.15it/s]"
     ]
    },
    {
     "name": "stderr",
     "output_type": "stream",
     "text": [
      "\r  8%|██████▌                                                                       | 209/2500 [00:00<00:07, 302.60it/s]"
     ]
    },
    {
     "name": "stderr",
     "output_type": "stream",
     "text": [
      "\r 11%|████████▍                                                                     | 270/2500 [00:00<00:06, 355.87it/s]"
     ]
    },
    {
     "name": "stderr",
     "output_type": "stream",
     "text": [
      "\r 13%|██████████▏                                                                   | 326/2500 [00:00<00:05, 399.57it/s]"
     ]
    },
    {
     "name": "stderr",
     "output_type": "stream",
     "text": [
      "\r 15%|███████████▊                                                                  | 379/2500 [00:00<00:04, 431.42it/s]"
     ]
    },
    {
     "name": "stderr",
     "output_type": "stream",
     "text": [
      "\r 17%|█████████████▎                                                                | 428/2500 [00:01<00:04, 415.59it/s]"
     ]
    },
    {
     "name": "stderr",
     "output_type": "stream",
     "text": [
      "\r 19%|██████████████▊                                                               | 474/2500 [00:01<00:05, 385.97it/s]"
     ]
    },
    {
     "name": "stderr",
     "output_type": "stream",
     "text": [
      "\r 21%|████████████████                                                              | 516/2500 [00:01<00:05, 373.43it/s]"
     ]
    },
    {
     "name": "stderr",
     "output_type": "stream",
     "text": [
      "\r 25%|███████████████████▎                                                          | 618/2500 [00:01<00:04, 461.12it/s]"
     ]
    },
    {
     "name": "stderr",
     "output_type": "stream",
     "text": [
      "\r 29%|██████████████████████▌                                                       | 723/2500 [00:01<00:03, 553.52it/s]"
     ]
    },
    {
     "name": "stderr",
     "output_type": "stream",
     "text": [
      "\r 33%|█████████████████████████▍                                                    | 816/2500 [00:01<00:02, 628.75it/s]"
     ]
    },
    {
     "name": "stderr",
     "output_type": "stream",
     "text": [
      "\r 37%|████████████████████████████▌                                                 | 914/2500 [00:01<00:02, 701.49it/s]"
     ]
    },
    {
     "name": "stderr",
     "output_type": "stream",
     "text": [
      "\r 40%|███████████████████████████████                                              | 1009/2500 [00:01<00:01, 759.40it/s]"
     ]
    },
    {
     "name": "stderr",
     "output_type": "stream",
     "text": [
      "\r 46%|███████████████████████████████████▏                                         | 1142/2500 [00:01<00:01, 871.58it/s]"
     ]
    },
    {
     "name": "stderr",
     "output_type": "stream",
     "text": [
      "\r 50%|██████████████████████████████████████▎                                      | 1243/2500 [00:02<00:01, 896.83it/s]"
     ]
    },
    {
     "name": "stderr",
     "output_type": "stream",
     "text": [
      "\r 55%|█████████████████████████████████████████▉                                  | 1381/2500 [00:02<00:01, 1002.09it/s]"
     ]
    },
    {
     "name": "stderr",
     "output_type": "stream",
     "text": [
      "\r 60%|█████████████████████████████████████████████▊                              | 1509/2500 [00:02<00:00, 1069.23it/s]"
     ]
    },
    {
     "name": "stderr",
     "output_type": "stream",
     "text": [
      "\r 66%|█████████████████████████████████████████████████▊                          | 1638/2500 [00:02<00:00, 1124.16it/s]"
     ]
    },
    {
     "name": "stderr",
     "output_type": "stream",
     "text": [
      "\r 70%|█████████████████████████████████████████████████████▌                      | 1762/2500 [00:02<00:00, 1153.35it/s]"
     ]
    },
    {
     "name": "stderr",
     "output_type": "stream",
     "text": [
      "\r 75%|█████████████████████████████████████████████████████████▏                  | 1883/2500 [00:02<00:00, 1149.75it/s]"
     ]
    },
    {
     "name": "stderr",
     "output_type": "stream",
     "text": [
      "\r 81%|█████████████████████████████████████████████████████████████▎              | 2018/2500 [00:02<00:00, 1200.11it/s]"
     ]
    },
    {
     "name": "stderr",
     "output_type": "stream",
     "text": [
      "\r 86%|█████████████████████████████████████████████████████████████████▍          | 2151/2500 [00:02<00:00, 1236.32it/s]"
     ]
    },
    {
     "name": "stderr",
     "output_type": "stream",
     "text": [
      "\r 92%|█████████████████████████████████████████████████████████████████████▌      | 2288/2500 [00:02<00:00, 1270.07it/s]"
     ]
    },
    {
     "name": "stderr",
     "output_type": "stream",
     "text": [
      "\r 97%|█████████████████████████████████████████████████████████████████████████▊  | 2430/2500 [00:02<00:00, 1307.99it/s]"
     ]
    },
    {
     "name": "stderr",
     "output_type": "stream",
     "text": [
      "\r100%|█████████████████████████████████████████████████████████████████████████████| 2500/2500 [00:03<00:00, 829.74it/s]"
     ]
    },
    {
     "name": "stderr",
     "output_type": "stream",
     "text": [
      "\n"
     ]
    },
    {
     "name": "stderr",
     "output_type": "stream",
     "text": [
      "\r  0%|                                                                                         | 0/2500 [00:00<?, ?it/s]"
     ]
    },
    {
     "name": "stderr",
     "output_type": "stream",
     "text": [
      "\r  3%|██▎                                                                            | 75/2500 [00:00<00:03, 742.61it/s]"
     ]
    },
    {
     "name": "stderr",
     "output_type": "stream",
     "text": [
      "\r  7%|█████▊                                                                        | 185/2500 [00:00<00:02, 820.97it/s]"
     ]
    },
    {
     "name": "stderr",
     "output_type": "stream",
     "text": [
      "\r 11%|████████▉                                                                     | 285/2500 [00:00<00:02, 865.31it/s]"
     ]
    },
    {
     "name": "stderr",
     "output_type": "stream",
     "text": [
      "\r 16%|████████████▏                                                                 | 389/2500 [00:00<00:02, 911.21it/s]"
     ]
    },
    {
     "name": "stderr",
     "output_type": "stream",
     "text": [
      "\r 20%|███████████████▎                                                              | 489/2500 [00:00<00:02, 936.10it/s]"
     ]
    },
    {
     "name": "stderr",
     "output_type": "stream",
     "text": [
      "\r 23%|█████████████████▊                                                            | 572/2500 [00:00<00:02, 884.29it/s]"
     ]
    },
    {
     "name": "stderr",
     "output_type": "stream",
     "text": [
      "\r 28%|█████████████████████▋                                                        | 695/2500 [00:00<00:01, 963.47it/s]"
     ]
    },
    {
     "name": "stderr",
     "output_type": "stream",
     "text": [
      "\r 33%|█████████████████████████▎                                                   | 821/2500 [00:00<00:01, 1036.60it/s]"
     ]
    },
    {
     "name": "stderr",
     "output_type": "stream",
     "text": [
      "\r 37%|████████████████████████████▊                                                 | 925/2500 [00:00<00:01, 993.06it/s]"
     ]
    },
    {
     "name": "stderr",
     "output_type": "stream",
     "text": [
      "\r 42%|███████████████████████████████▋                                            | 1042/2500 [00:01<00:01, 1037.52it/s]"
     ]
    },
    {
     "name": "stderr",
     "output_type": "stream",
     "text": [
      "\r 47%|███████████████████████████████████▉                                        | 1182/2500 [00:01<00:01, 1122.20it/s]"
     ]
    },
    {
     "name": "stderr",
     "output_type": "stream",
     "text": [
      "\r 53%|████████████████████████████████████████▏                                   | 1320/2500 [00:01<00:00, 1188.82it/s]"
     ]
    },
    {
     "name": "stderr",
     "output_type": "stream",
     "text": [
      "\r 58%|███████████████████████████████████████████▊                                | 1442/2500 [00:01<00:00, 1194.50it/s]"
     ]
    },
    {
     "name": "stderr",
     "output_type": "stream",
     "text": [
      "\r 63%|████████████████████████████████████████████████▏                           | 1587/2500 [00:01<00:00, 1261.16it/s]"
     ]
    },
    {
     "name": "stderr",
     "output_type": "stream",
     "text": [
      "\r 69%|████████████████████████████████████████████████████▎                       | 1722/2500 [00:01<00:00, 1286.56it/s]"
     ]
    },
    {
     "name": "stderr",
     "output_type": "stream",
     "text": [
      "\r 74%|████████████████████████████████████████████████████████▍                   | 1855/2500 [00:01<00:00, 1299.19it/s]"
     ]
    },
    {
     "name": "stderr",
     "output_type": "stream",
     "text": [
      "\r 79%|████████████████████████████████████████████████████████████▍               | 1987/2500 [00:01<00:00, 1297.76it/s]"
     ]
    },
    {
     "name": "stderr",
     "output_type": "stream",
     "text": [
      "\r 85%|████████████████████████████████████████████████████████████████▍           | 2118/2500 [00:01<00:00, 1297.54it/s]"
     ]
    },
    {
     "name": "stderr",
     "output_type": "stream",
     "text": [
      "\r 90%|████████████████████████████████████████████████████████████████████▎       | 2249/2500 [00:01<00:00, 1282.12it/s]"
     ]
    },
    {
     "name": "stderr",
     "output_type": "stream",
     "text": [
      "\r 95%|████████████████████████████████████████████████████████████████████████▎   | 2378/2500 [00:02<00:00, 1236.46it/s]"
     ]
    },
    {
     "name": "stderr",
     "output_type": "stream",
     "text": [
      "\r100%|████████████████████████████████████████████████████████████████████████████| 2500/2500 [00:02<00:00, 1167.67it/s]"
     ]
    },
    {
     "name": "stderr",
     "output_type": "stream",
     "text": [
      "\n"
     ]
    }
   ],
   "source": [
    "with mdl_ols:\n",
    "\n",
    "    ## find MAP using Powell, seems to be more robust\n",
    "    start_MAP = pm.find_MAP(fmin=optimize.fmin_powell, disp=True)\n",
    "\n",
    "    ## take samples\n",
    "    traces_ols = pm.sample(2000, start=start_MAP, step=pm.NUTS(), progressbar=True)"
   ]
  },
  {
   "cell_type": "code",
   "execution_count": 42,
   "metadata": {},
   "outputs": [
    {
     "data": {
      "image/png": "[encoded data removed]",
      "text/plain": [
       "<Figure size 864x216 with 4 Axes>"
      ]
     },
     "metadata": {},
     "output_type": "display_data"
    }
   ],
   "source": [
    "_ = pm.traceplot(traces_ols[-1000:], figsize=(12,len(traces_ols.varnames)*1.5),\n",
    "                lines={k: v['mean'] for k, v in pm.summary(traces_ols[-1000:]).iterrows()})"
   ]
  },
  {
   "cell_type": "markdown",
   "metadata": {},
   "source": [
    "### Create Robust Model: Student-T Method"
   ]
  },
  {
   "cell_type": "markdown",
   "metadata": {},
   "source": [
    "Instead of using a Normal distribution for the likelihood, we use a Student-T, which is heavy-tailed distribution.\n",
    "\n",
    "**In theory this allows outliers to have a smaller mean square error in the likelihood, and thus have less influence on the regression estimation.**\n",
    "\n",
    "**Note:** we'll constrain the Student-T 'degrees of freedom' parameter `nu` to be an integer, but otherwise leave it as just another stochastic to be inferred: no need for prior knowledge."
   ]
  },
  {
   "cell_type": "code",
   "execution_count": 43,
   "metadata": {},
   "outputs": [],
   "source": [
    "with pm.Model() as mdl_studentt:\n",
    "    \n",
    "    ## Define weakly informative Normal priors to give Ridge regression\n",
    "    b0 = pm.Normal('b0_intercept', mu=0, sd=100)\n",
    "    b1 = pm.Normal('b1_slope', mu=0, sd=100)\n",
    " \n",
    "    ## Define linear model\n",
    "    yest = b0 + b1 * dfhoggs['x']\n",
    "    \n",
    "    ## Use y error from dataset, convert into theano variable\n",
    "    sigma_y = thno.shared(np.asarray(dfhoggs['sigma_y'],\n",
    "                            dtype=thno.config.floatX), name='sigma_y')\n",
    "    \n",
    "    ## define prior for Student T degrees of freedom\n",
    "    nu = pm.DiscreteUniform('nu', lower=1, upper=100)\n",
    "\n",
    "    ## Define Student T likelihood\n",
    "    likelihood = pm.StudentT('likelihood',  mu=yest, sd=sigma_y, observed=dfhoggs['y'], \n",
    "                             nu=nu)\n"
   ]
  },
  {
   "cell_type": "code",
   "execution_count": 44,
   "metadata": {},
   "outputs": [
    {
     "name": "stderr",
     "output_type": "stream",
     "text": [
      "\r  0%|                                                                                         | 0/5000 [00:00<?, ?it/s]"
     ]
    },
    {
     "name": "stderr",
     "output_type": "stream",
     "text": [
      "\rlogp = -144.49:   0%|                                                                         | 0/5000 [00:00<?, ?it/s]"
     ]
    },
    {
     "name": "stderr",
     "output_type": "stream",
     "text": [
      "\rlogp = -109.8:   0%|▏                                                              | 10/5000 [00:00<00:04, 1110.16it/s]"
     ]
    },
    {
     "name": "stderr",
     "output_type": "stream",
     "text": [
      "\rlogp = -108.2:   0%|▎                                                               | 20/5000 [00:00<00:04, 999.98it/s]"
     ]
    },
    {
     "name": "stderr",
     "output_type": "stream",
     "text": [
      "\rlogp = -108.1:   1%|▍                                                              | 30/5000 [00:00<00:04, 1000.08it/s]"
     ]
    },
    {
     "name": "stderr",
     "output_type": "stream",
     "text": [
      "\rlogp = -132.54:   1%|▌                                                              | 40/5000 [00:00<00:05, 975.60it/s]"
     ]
    },
    {
     "name": "stderr",
     "output_type": "stream",
     "text": [
      "\rlogp = -108.14:   1%|▌                                                             | 50/5000 [00:00<00:04, 1020.23it/s]"
     ]
    },
    {
     "name": "stderr",
     "output_type": "stream",
     "text": [
      "\rlogp = -163.99:   1%|▋                                                             | 60/5000 [00:00<00:04, 1016.90it/s]"
     ]
    },
    {
     "name": "stderr",
     "output_type": "stream",
     "text": [
      "\rlogp = -108.1:   1%|▉                                                               | 70/5000 [00:00<00:05, 985.92it/s]"
     ]
    },
    {
     "name": "stdout",
     "output_type": "stream",
     "text": [
      "Optimization terminated successfully."
     ]
    },
    {
     "name": "stdout",
     "output_type": "stream",
     "text": [
      "\n"
     ]
    },
    {
     "name": "stdout",
     "output_type": "stream",
     "text": [
      "         Current function value: 108.095895"
     ]
    },
    {
     "name": "stdout",
     "output_type": "stream",
     "text": [
      "\n"
     ]
    },
    {
     "name": "stdout",
     "output_type": "stream",
     "text": [
      "         Iterations: 3"
     ]
    },
    {
     "name": "stdout",
     "output_type": "stream",
     "text": [
      "\n"
     ]
    },
    {
     "name": "stdout",
     "output_type": "stream",
     "text": [
      "         Function evaluations: 77"
     ]
    },
    {
     "name": "stdout",
     "output_type": "stream",
     "text": [
      "\n"
     ]
    },
    {
     "name": "stderr",
     "output_type": "stream",
     "text": [
      "\rlogp = -108.1:   2%|▉                                                               | 77/5000 [00:00<00:09, 499.94it/s]"
     ]
    },
    {
     "name": "stderr",
     "output_type": "stream",
     "text": [
      "\n"
     ]
    },
    {
     "name": "stderr",
     "output_type": "stream",
     "text": [
      "Multiprocess sampling (2 chains in 2 jobs)"
     ]
    },
    {
     "name": "stderr",
     "output_type": "stream",
     "text": [
      "\n"
     ]
    },
    {
     "name": "stderr",
     "output_type": "stream",
     "text": [
      "CompoundStep"
     ]
    },
    {
     "name": "stderr",
     "output_type": "stream",
     "text": [
      "\n"
     ]
    },
    {
     "name": "stderr",
     "output_type": "stream",
     "text": [
      ">NUTS: [b1_slope, b0_intercept]"
     ]
    },
    {
     "name": "stderr",
     "output_type": "stream",
     "text": [
      "\n"
     ]
    },
    {
     "name": "stderr",
     "output_type": "stream",
     "text": [
      ">Metropolis: [nu]"
     ]
    },
    {
     "name": "stderr",
     "output_type": "stream",
     "text": [
      "\n"
     ]
    },
    {
     "name": "stderr",
     "output_type": "stream",
     "text": [
      "Could not pickle model, sampling singlethreaded."
     ]
    },
    {
     "name": "stderr",
     "output_type": "stream",
     "text": [
      "\n"
     ]
    },
    {
     "name": "stderr",
     "output_type": "stream",
     "text": [
      "Sequential sampling (2 chains in 1 job)"
     ]
    },
    {
     "name": "stderr",
     "output_type": "stream",
     "text": [
      "\n"
     ]
    },
    {
     "name": "stderr",
     "output_type": "stream",
     "text": [
      "CompoundStep"
     ]
    },
    {
     "name": "stderr",
     "output_type": "stream",
     "text": [
      "\n"
     ]
    },
    {
     "name": "stderr",
     "output_type": "stream",
     "text": [
      ">NUTS: [b1_slope, b0_intercept]"
     ]
    },
    {
     "name": "stderr",
     "output_type": "stream",
     "text": [
      "\n"
     ]
    },
    {
     "name": "stderr",
     "output_type": "stream",
     "text": [
      ">Metropolis: [nu]"
     ]
    },
    {
     "name": "stderr",
     "output_type": "stream",
     "text": [
      "\n"
     ]
    },
    {
     "name": "stderr",
     "output_type": "stream",
     "text": [
      "\r  0%|                                                                                         | 0/2500 [00:00<?, ?it/s]"
     ]
    },
    {
     "name": "stderr",
     "output_type": "stream",
     "text": [
      "\r  0%|                                                                                 | 1/2500 [00:00<09:32,  4.37it/s]Exception in thread QueueFeederThread:\nTraceback (most recent call last):\n  File \"C:\\Users\\Alex\\Anaconda3\\lib\\site-packages\\joblib\\externals\\loky\\backend\\queues.py\", line 150, in _feed\n    obj_ = dumps(obj, reducers=reducers)\n  File \"C:\\Users\\Alex\\Anaconda3\\lib\\site-packages\\joblib\\externals\\loky\\backend\\reduction.py\", line 243, in dumps\n    dump(obj, buf, reducers=reducers, protocol=protocol)\n  File \"C:\\Users\\Alex\\Anaconda3\\lib\\site-packages\\joblib\\externals\\loky\\backend\\reduction.py\", line 236, in dump\n    _LokyPickler(file, reducers=reducers, protocol=protocol).dump(obj)\n  File \"C:\\Users\\Alex\\Anaconda3\\lib\\site-packages\\joblib\\externals\\cloudpickle\\cloudpickle.py\", line 267, in dump\n    return Pickler.dump(self, obj)\n  File \"C:\\Users\\Alex\\Anaconda3\\lib\\pickle.py\", line 409, in dump\n    self.save(obj)\n  File \"C:\\Users\\Alex\\Anaconda3\\lib\\pickle.py\", line 521, in save\n    self.save_reduce(obj=obj, *rv)\n  File \"C:\\Users\\Alex\\Anaconda3\\lib\\pickle.py\", line 634, in save_reduce\n    save(state)\n  File \"C:\\Users\\Alex\\Anaconda3\\lib\\pickle.py\", line 476, in save\n    f(self, obj) # Call unbound method with explicit self\n  File \"C:\\Users\\Alex\\Anaconda3\\lib\\pickle.py\", line 821, in save_dict\n    self._batch_setitems(obj.items())\n  File \"C:\\Users\\Alex\\Anaconda3\\lib\\pickle.py\", line 847, in _batch_setitems\n    save(v)\n  File \"C:\\Users\\Alex\\Anaconda3\\lib\\pickle.py\", line 521, in save\n    self.save_reduce(obj=obj, *rv)\n  File \"C:\\Users\\Alex\\Anaconda3\\lib\\pickle.py\", line 634, in save_reduce\n    save(state)\n  File \"C:\\Users\\Alex\\Anaconda3\\lib\\pickle.py\", line 476, in save\n    f(self, obj) # Call unbound method with explicit self\n  File \"C:\\Users\\Alex\\Anaconda3\\lib\\pickle.py\", line 821, in save_dict\n    self._batch_setitems(obj.items())\n  File \"C:\\Users\\Alex\\Anaconda3\\lib\\pickle.py\", line 852, in _batch_setitems\n    save(v)\n  File \"C:\\Users\\Alex\\Anaconda3\\lib\\pickle.py\", line 521, in save\n    self.save_reduce(obj=obj, *rv)\n  File \"C:\\Users\\Alex\\Anaconda3\\lib\\pickle.py\", line 634, in save_reduce\n    save(state)\n  File \"C:\\Users\\Alex\\Anaconda3\\lib\\pickle.py\", line 476, in save\n    f(self, obj) # Call unbound method with explicit self\n  File \"C:\\Users\\Alex\\Anaconda3\\lib\\pickle.py\", line 821, in save_dict\n    self._batch_setitems(obj.items())\n  File \"C:\\Users\\Alex\\Anaconda3\\lib\\pickle.py\", line 847, in _batch_setitems\n    save(v)\n  File \"C:\\Users\\Alex\\Anaconda3\\lib\\pickle.py\", line 476, in save\n    f(self, obj) # Call unbound method with explicit self\n  File \"C:\\Users\\Alex\\Anaconda3\\lib\\pickle.py\", line 781, in save_list\n    self._batch_appends(obj)\n  File \"C:\\Users\\Alex\\Anaconda3\\lib\\pickle.py\", line 808, in _batch_appends\n    save(tmp[0])\n  File \"C:\\Users\\Alex\\Anaconda3\\lib\\pickle.py\", line 476, in save\n    f(self, obj) # Call unbound method with explicit self\n  File \"C:\\Users\\Alex\\Anaconda3\\lib\\pickle.py\", line 736, in save_tuple\n    save(element)\n  File \"C:\\Users\\Alex\\Anaconda3\\lib\\pickle.py\", line 476, in save\n    f(self, obj) # Call unbound method with explicit self\n  File \"C:\\Users\\Alex\\Anaconda3\\lib\\pickle.py\", line 821, in save_dict\n    self._batch_setitems(obj.items())\n  File \"C:\\Users\\Alex\\Anaconda3\\lib\\pickle.py\", line 847, in _batch_setitems\n    save(v)\n  File \"C:\\Users\\Alex\\Anaconda3\\lib\\pickle.py\", line 521, in save\n    self.save_reduce(obj=obj, *rv)\n  File \"C:\\Users\\Alex\\Anaconda3\\lib\\pickle.py\", line 634, in save_reduce\n    save(state)\n  File \"C:\\Users\\Alex\\Anaconda3\\lib\\pickle.py\", line 476, in save\n    f(self, obj) # Call unbound method with explicit self\n  File \"C:\\Users\\Alex\\Anaconda3\\lib\\pickle.py\", line 821, in save_dict\n    self._batch_setitems(obj.items())\n  File \"C:\\Users\\Alex\\Anaconda3\\lib\\pickle.py\", line 847, in _batch_setitems\n    save(v)\n  File \"C:\\Users\\Alex\\Anaconda3\\lib\\pickle.py\", line 476, in save\n    f(self, obj) # Call unbound method with explicit self\n  File \"C:\\Users\\Alex\\Anaconda3\\lib\\pickle.py\", line 781, in save_list\n    self._batch_appends(obj)\n  File \"C:\\Users\\Alex\\Anaconda3\\lib\\pickle.py\", line 805, in _batch_appends\n    save(x)\n  File \"C:\\Users\\Alex\\Anaconda3\\lib\\pickle.py\", line 521, in save\n    self.save_reduce(obj=obj, *rv)\n  File \"C:\\Users\\Alex\\Anaconda3\\lib\\pickle.py\", line 634, in save_reduce\n    save(state)\n  File \"C:\\Users\\Alex\\Anaconda3\\lib\\pickle.py\", line 476, in save\n    f(self, obj) # Call unbound method with explicit self\n  File \"C:\\Users\\Alex\\Anaconda3\\lib\\pickle.py\", line 821, in save_dict\n    self._batch_setitems(obj.items())\n  File \"C:\\Users\\Alex\\Anaconda3\\lib\\pickle.py\", line 847, in _batch_setitems\n    save(v)\n  File \"C:\\Users\\Alex\\Anaconda3\\lib\\pickle.py\", line 521, in save\n    self.save_reduce(obj=obj, *rv)\n  File \"C:\\Users\\Alex\\Anaconda3\\lib\\pickle.py\", line 634, in save_reduce\n    save(state)\n  File \"C:\\Users\\Alex\\Anaconda3\\lib\\pickle.py\", line 476, in save\n    f(self, obj) # Call unbound method with explicit self\n  File \"C:\\Users\\Alex\\Anaconda3\\lib\\pickle.py\", line 821, in save_dict\n    self._batch_setitems(obj.items())\n  File \"C:\\Users\\Alex\\Anaconda3\\lib\\pickle.py\", line 847, in _batch_setitems\n    save(v)\n  File \"C:\\Users\\Alex\\Anaconda3\\lib\\pickle.py\", line 521, in save\n    self.save_reduce(obj=obj, *rv)\n  File \"C:\\Users\\Alex\\Anaconda3\\lib\\pickle.py\", line 634, in save_reduce\n    save(state)\n  File \"C:\\Users\\Alex\\Anaconda3\\lib\\pickle.py\", line 476, in save\n    f(self, obj) # Call unbound method with explicit self\n  File \"C:\\Users\\Alex\\Anaconda3\\lib\\pickle.py\", line 821, in save_dict\n    self._batch_setitems(obj.items())\n  File \"C:\\Users\\Alex\\Anaconda3\\lib\\pickle.py\", line 847, in _batch_setitems\n    save(v)\n  File \"C:\\Users\\Alex\\Anaconda3\\lib\\pickle.py\", line 496, in save\n    rv = reduce(self.proto)\nTypeError: can't pickle CVM objects\n\nDuring handling of the above exception, another exception occurred:\n\nTraceback (most recent call last):\n  File \"C:\\Users\\Alex\\Anaconda3\\lib\\threading.py\", line 916, in _bootstrap_inner\n    self.run()\n  File \"C:\\Users\\Alex\\Anaconda3\\lib\\threading.py\", line 864, in run\n    self._target(*self._args, **self._kwargs)\n  File \"C:\\Users\\Alex\\Anaconda3\\lib\\site-packages\\joblib\\externals\\loky\\backend\\queues.py\", line 175, in _feed\n    onerror(e, obj)\n  File \"C:\\Users\\Alex\\Anaconda3\\lib\\site-packages\\joblib\\externals\\loky\\process_executor.py\", line 310, in _on_queue_feeder_error\n    self.thread_wakeup.wakeup()\n  File \"C:\\Users\\Alex\\Anaconda3\\lib\\site-packages\\joblib\\externals\\loky\\process_executor.py\", line 155, in wakeup\n    self._writer.send_bytes(b\"\")\n  File \"C:\\Users\\Alex\\Anaconda3\\lib\\multiprocessing\\connection.py\", line 183, in send_bytes\n    self._check_closed()\n  File \"C:\\Users\\Alex\\Anaconda3\\lib\\multiprocessing\\connection.py\", line 136, in _check_closed\n    raise OSError(\"handle is closed\")\nOSError: handle is closed\n"
     ]
    },
    {
     "name": "stderr",
     "output_type": "stream",
     "text": [
      "\n"
     ]
    },
    {
     "name": "stderr",
     "output_type": "stream",
     "text": [
      "\r  1%|▌                                                                               | 17/2500 [00:00<06:43,  6.16it/s]"
     ]
    },
    {
     "name": "stderr",
     "output_type": "stream",
     "text": [
      "\r  2%|█▍                                                                              | 45/2500 [00:00<04:41,  8.71it/s]"
     ]
    },
    {
     "name": "stderr",
     "output_type": "stream",
     "text": [
      "\r  3%|██▍                                                                             | 75/2500 [00:00<03:17, 12.30it/s]"
     ]
    },
    {
     "name": "stderr",
     "output_type": "stream",
     "text": [
      "\r  4%|███▎                                                                           | 106/2500 [00:00<02:18, 17.27it/s]"
     ]
    },
    {
     "name": "stderr",
     "output_type": "stream",
     "text": [
      "\r  6%|████▍                                                                          | 140/2500 [00:00<01:37, 24.14it/s]"
     ]
    },
    {
     "name": "stderr",
     "output_type": "stream",
     "text": [
      "\r  7%|█████▌                                                                         | 177/2500 [00:00<01:09, 33.51it/s]"
     ]
    },
    {
     "name": "stderr",
     "output_type": "stream",
     "text": [
      "\r  9%|██████▉                                                                        | 220/2500 [00:00<00:49, 46.31it/s]"
     ]
    },
    {
     "name": "stderr",
     "output_type": "stream",
     "text": [
      "\r 10%|████████▎                                                                      | 262/2500 [00:01<00:35, 63.14it/s]"
     ]
    },
    {
     "name": "stderr",
     "output_type": "stream",
     "text": [
      "\r 12%|█████████▋                                                                     | 305/2500 [00:01<00:25, 84.81it/s]"
     ]
    },
    {
     "name": "stderr",
     "output_type": "stream",
     "text": [
      "\r 14%|██████████▊                                                                   | 347/2500 [00:01<00:19, 111.42it/s]"
     ]
    },
    {
     "name": "stderr",
     "output_type": "stream",
     "text": [
      "\r 16%|████████████                                                                  | 388/2500 [00:01<00:14, 142.27it/s]"
     ]
    },
    {
     "name": "stderr",
     "output_type": "stream",
     "text": [
      "\r 17%|█████████████▎                                                                | 428/2500 [00:01<00:11, 172.71it/s]"
     ]
    },
    {
     "name": "stderr",
     "output_type": "stream",
     "text": [
      "\r 19%|██████████████▌                                                               | 467/2500 [00:01<00:09, 207.03it/s]"
     ]
    },
    {
     "name": "stderr",
     "output_type": "stream",
     "text": [
      "\r 20%|███████████████▊                                                              | 505/2500 [00:01<00:08, 227.71it/s]"
     ]
    },
    {
     "name": "stderr",
     "output_type": "stream",
     "text": [
      "\r 22%|████████████████▉                                                             | 541/2500 [00:01<00:07, 245.96it/s]"
     ]
    },
    {
     "name": "stderr",
     "output_type": "stream",
     "text": [
      "\r 23%|█████████████████▉                                                            | 575/2500 [00:01<00:07, 253.80it/s]"
     ]
    },
    {
     "name": "stderr",
     "output_type": "stream",
     "text": [
      "\r 24%|██████████████████▉                                                           | 607/2500 [00:02<00:07, 269.91it/s]"
     ]
    },
    {
     "name": "stderr",
     "output_type": "stream",
     "text": [
      "\r 26%|███████████████████▉                                                          | 639/2500 [00:02<00:06, 272.36it/s]"
     ]
    },
    {
     "name": "stderr",
     "output_type": "stream",
     "text": [
      "\r 27%|█████████████████████                                                         | 675/2500 [00:02<00:06, 293.10it/s]"
     ]
    },
    {
     "name": "stderr",
     "output_type": "stream",
     "text": [
      "\r 29%|██████████████████████▍                                                       | 719/2500 [00:02<00:05, 325.72it/s]"
     ]
    },
    {
     "name": "stderr",
     "output_type": "stream",
     "text": [
      "\r 30%|███████████████████████▋                                                      | 760/2500 [00:02<00:05, 346.25it/s]"
     ]
    },
    {
     "name": "stderr",
     "output_type": "stream",
     "text": [
      "\r 32%|████████████████████████▉                                                     | 798/2500 [00:02<00:05, 331.52it/s]"
     ]
    },
    {
     "name": "stderr",
     "output_type": "stream",
     "text": [
      "\r 33%|██████████████████████████                                                    | 834/2500 [00:02<00:05, 310.58it/s]"
     ]
    },
    {
     "name": "stderr",
     "output_type": "stream",
     "text": [
      "\r 35%|███████████████████████████                                                   | 868/2500 [00:02<00:05, 317.96it/s]"
     ]
    },
    {
     "name": "stderr",
     "output_type": "stream",
     "text": [
      "\r 36%|████████████████████████████▏                                                 | 902/2500 [00:02<00:04, 323.34it/s]"
     ]
    },
    {
     "name": "stderr",
     "output_type": "stream",
     "text": [
      "\r 37%|█████████████████████████████▏                                                | 936/2500 [00:03<00:04, 316.26it/s]"
     ]
    },
    {
     "name": "stderr",
     "output_type": "stream",
     "text": [
      "\r 39%|██████████████████████████████▍                                               | 977/2500 [00:03<00:04, 338.71it/s]"
     ]
    },
    {
     "name": "stderr",
     "output_type": "stream",
     "text": [
      "\r 41%|███████████████████████████████▎                                             | 1015/2500 [00:03<00:04, 349.15it/s]"
     ]
    },
    {
     "name": "stderr",
     "output_type": "stream",
     "text": [
      "\r 42%|████████████████████████████████▎                                            | 1051/2500 [00:03<00:04, 316.98it/s]"
     ]
    },
    {
     "name": "stderr",
     "output_type": "stream",
     "text": [
      "\r 43%|█████████████████████████████████▍                                           | 1084/2500 [00:03<00:04, 286.51it/s]"
     ]
    },
    {
     "name": "stderr",
     "output_type": "stream",
     "text": [
      "\r 45%|██████████████████████████████████▍                                          | 1118/2500 [00:03<00:04, 299.91it/s]"
     ]
    },
    {
     "name": "stderr",
     "output_type": "stream",
     "text": [
      "\r 46%|███████████████████████████████████▍                                         | 1150/2500 [00:03<00:04, 289.10it/s]"
     ]
    },
    {
     "name": "stderr",
     "output_type": "stream",
     "text": [
      "\r 48%|████████████████████████████████████▋                                        | 1192/2500 [00:03<00:04, 316.75it/s]"
     ]
    },
    {
     "name": "stderr",
     "output_type": "stream",
     "text": [
      "\r 49%|█████████████████████████████████████▊                                       | 1229/2500 [00:03<00:03, 329.27it/s]"
     ]
    },
    {
     "name": "stderr",
     "output_type": "stream",
     "text": [
      "\r 51%|██████████████████████████████████████▉                                      | 1264/2500 [00:04<00:03, 312.77it/s]"
     ]
    },
    {
     "name": "stderr",
     "output_type": "stream",
     "text": [
      "\r 52%|████████████████████████████████████████                                     | 1302/2500 [00:04<00:03, 327.73it/s]"
     ]
    },
    {
     "name": "stderr",
     "output_type": "stream",
     "text": [
      "\r 54%|█████████████████████████████████████████▎                                   | 1340/2500 [00:04<00:03, 340.92it/s]"
     ]
    },
    {
     "name": "stderr",
     "output_type": "stream",
     "text": [
      "\r 55%|██████████████████████████████████████████▍                                  | 1379/2500 [00:04<00:03, 354.30it/s]"
     ]
    },
    {
     "name": "stderr",
     "output_type": "stream",
     "text": [
      "\r 57%|███████████████████████████████████████████▌                                 | 1416/2500 [00:04<00:03, 329.17it/s]"
     ]
    },
    {
     "name": "stderr",
     "output_type": "stream",
     "text": [
      "\r 58%|████████████████████████████████████████████▋                                | 1450/2500 [00:04<00:03, 302.22it/s]"
     ]
    },
    {
     "name": "stderr",
     "output_type": "stream",
     "text": [
      "\r 59%|█████████████████████████████████████████████▋                               | 1484/2500 [00:04<00:03, 311.78it/s]"
     ]
    },
    {
     "name": "stderr",
     "output_type": "stream",
     "text": [
      "\r 61%|██████████████████████████████████████████████▋                              | 1516/2500 [00:04<00:03, 294.27it/s]"
     ]
    },
    {
     "name": "stderr",
     "output_type": "stream",
     "text": [
      "\r 62%|███████████████████████████████████████████████▋                             | 1547/2500 [00:04<00:03, 296.24it/s]"
     ]
    },
    {
     "name": "stderr",
     "output_type": "stream",
     "text": [
      "\r 63%|████████████████████████████████████████████████▋                            | 1581/2500 [00:05<00:02, 306.48it/s]"
     ]
    },
    {
     "name": "stderr",
     "output_type": "stream",
     "text": [
      "\r 65%|█████████████████████████████████████████████████▉                           | 1622/2500 [00:05<00:02, 330.79it/s]"
     ]
    },
    {
     "name": "stderr",
     "output_type": "stream",
     "text": [
      "\r 66%|███████████████████████████████████████████████████                          | 1657/2500 [00:05<00:02, 334.40it/s]"
     ]
    },
    {
     "name": "stderr",
     "output_type": "stream",
     "text": [
      "\r 68%|████████████████████████████████████████████████████                         | 1692/2500 [00:05<00:02, 334.08it/s]"
     ]
    },
    {
     "name": "stderr",
     "output_type": "stream",
     "text": [
      "\r 69%|█████████████████████████████████████████████████████▏                       | 1726/2500 [00:05<00:02, 317.94it/s]"
     ]
    },
    {
     "name": "stderr",
     "output_type": "stream",
     "text": [
      "\r 70%|██████████████████████████████████████████████████████▏                      | 1759/2500 [00:05<00:02, 315.02it/s]"
     ]
    },
    {
     "name": "stderr",
     "output_type": "stream",
     "text": [
      "\r 72%|███████████████████████████████████████████████████████▏                     | 1793/2500 [00:05<00:02, 320.29it/s]"
     ]
    },
    {
     "name": "stderr",
     "output_type": "stream",
     "text": [
      "\r 73%|████████████████████████████████████████████████████████▎                    | 1829/2500 [00:05<00:02, 327.64it/s]"
     ]
    },
    {
     "name": "stderr",
     "output_type": "stream",
     "text": [
      "\r 75%|█████████████████████████████████████████████████████████▌                   | 1870/2500 [00:05<00:01, 347.76it/s]"
     ]
    },
    {
     "name": "stderr",
     "output_type": "stream",
     "text": [
      "\r 76%|██████████████████████████████████████████████████████████▊                  | 1908/2500 [00:06<00:01, 352.87it/s]"
     ]
    },
    {
     "name": "stderr",
     "output_type": "stream",
     "text": [
      "\r 78%|███████████████████████████████████████████████████████████▉                 | 1944/2500 [00:06<00:01, 347.77it/s]"
     ]
    },
    {
     "name": "stderr",
     "output_type": "stream",
     "text": [
      "\r 79%|████████████████████████████████████████████████████████████▉                | 1980/2500 [00:06<00:01, 341.36it/s]"
     ]
    },
    {
     "name": "stderr",
     "output_type": "stream",
     "text": [
      "\r 81%|██████████████████████████████████████████████████████████████               | 2015/2500 [00:06<00:01, 330.27it/s]"
     ]
    },
    {
     "name": "stderr",
     "output_type": "stream",
     "text": [
      "\r 82%|███████████████████████████████████████████████████████████████▏             | 2051/2500 [00:06<00:01, 333.03it/s]"
     ]
    },
    {
     "name": "stderr",
     "output_type": "stream",
     "text": [
      "\r 84%|████████████████████████████████████████████████████████████████▎            | 2090/2500 [00:06<00:01, 347.36it/s]"
     ]
    },
    {
     "name": "stderr",
     "output_type": "stream",
     "text": [
      "\r 85%|█████████████████████████████████████████████████████████████████▊           | 2135/2500 [00:06<00:00, 370.11it/s]"
     ]
    },
    {
     "name": "stderr",
     "output_type": "stream",
     "text": [
      "\r 87%|██████████████████████████████████████████████████████████████████▉          | 2173/2500 [00:06<00:00, 352.28it/s]"
     ]
    },
    {
     "name": "stderr",
     "output_type": "stream",
     "text": [
      "\r 89%|████████████████████████████████████████████████████████████████████▏        | 2215/2500 [00:06<00:00, 366.31it/s]"
     ]
    },
    {
     "name": "stderr",
     "output_type": "stream",
     "text": [
      "\r 90%|█████████████████████████████████████████████████████████████████████▍       | 2256/2500 [00:06<00:00, 376.32it/s]"
     ]
    },
    {
     "name": "stderr",
     "output_type": "stream",
     "text": [
      "\r 92%|██████████████████████████████████████████████████████████████████████▊      | 2298/2500 [00:07<00:00, 386.30it/s]"
     ]
    },
    {
     "name": "stderr",
     "output_type": "stream",
     "text": [
      "\r 94%|████████████████████████████████████████████████████████████████████████     | 2338/2500 [00:07<00:00, 361.71it/s]"
     ]
    },
    {
     "name": "stderr",
     "output_type": "stream",
     "text": [
      "\r 95%|█████████████████████████████████████████████████████████████████████████▏   | 2375/2500 [00:07<00:00, 362.03it/s]"
     ]
    },
    {
     "name": "stderr",
     "output_type": "stream",
     "text": [
      "\r 96%|██████████████████████████████████████████████████████████████████████████▎  | 2412/2500 [00:07<00:00, 357.00it/s]"
     ]
    },
    {
     "name": "stderr",
     "output_type": "stream",
     "text": [
      "\r 98%|███████████████████████████████████████████████████████████████████████████▍ | 2449/2500 [00:07<00:00, 337.13it/s]"
     ]
    },
    {
     "name": "stderr",
     "output_type": "stream",
     "text": [
      "\r100%|████████████████████████████████████████████████████████████████████████████▋| 2488/2500 [00:07<00:00, 351.42it/s]"
     ]
    },
    {
     "name": "stderr",
     "output_type": "stream",
     "text": [
      "\r100%|█████████████████████████████████████████████████████████████████████████████| 2500/2500 [00:07<00:00, 325.39it/s]"
     ]
    },
    {
     "name": "stderr",
     "output_type": "stream",
     "text": [
      "\n"
     ]
    },
    {
     "name": "stderr",
     "output_type": "stream",
     "text": [
      "\r  0%|                                                                                         | 0/2500 [00:00<?, ?it/s]"
     ]
    },
    {
     "name": "stderr",
     "output_type": "stream",
     "text": [
      "\r  1%|▉                                                                              | 28/2500 [00:00<00:08, 277.21it/s]"
     ]
    },
    {
     "name": "stderr",
     "output_type": "stream",
     "text": [
      "\r  2%|█▋                                                                             | 54/2500 [00:00<00:09, 270.96it/s]"
     ]
    },
    {
     "name": "stderr",
     "output_type": "stream",
     "text": [
      "\r  3%|██▌                                                                            | 83/2500 [00:00<00:08, 274.84it/s]"
     ]
    },
    {
     "name": "stderr",
     "output_type": "stream",
     "text": [
      "\r  5%|███▊                                                                          | 122/2500 [00:00<00:07, 301.55it/s]"
     ]
    },
    {
     "name": "stderr",
     "output_type": "stream",
     "text": [
      "\r  6%|████▉                                                                         | 157/2500 [00:00<00:07, 312.93it/s]"
     ]
    },
    {
     "name": "stderr",
     "output_type": "stream",
     "text": [
      "\r  8%|██████▏                                                                       | 200/2500 [00:00<00:06, 339.96it/s]"
     ]
    },
    {
     "name": "stderr",
     "output_type": "stream",
     "text": [
      "\r 10%|███████▉                                                                      | 254/2500 [00:00<00:05, 381.65it/s]"
     ]
    },
    {
     "name": "stderr",
     "output_type": "stream",
     "text": [
      "\r 12%|█████████▏                                                                    | 295/2500 [00:00<00:05, 388.62it/s]"
     ]
    },
    {
     "name": "stderr",
     "output_type": "stream",
     "text": [
      "\r 14%|██████████▊                                                                   | 346/2500 [00:00<00:05, 418.50it/s]"
     ]
    },
    {
     "name": "stderr",
     "output_type": "stream",
     "text": [
      "\r 16%|████████████▋                                                                 | 406/2500 [00:01<00:04, 460.23it/s]"
     ]
    },
    {
     "name": "stderr",
     "output_type": "stream",
     "text": [
      "\r 19%|██████████████▌                                                               | 468/2500 [00:01<00:04, 497.59it/s]"
     ]
    },
    {
     "name": "stderr",
     "output_type": "stream",
     "text": [
      "\r 21%|████████████████▌                                                             | 531/2500 [00:01<00:03, 529.74it/s]"
     ]
    },
    {
     "name": "stderr",
     "output_type": "stream",
     "text": [
      "\r 24%|██████████████████▌                                                           | 594/2500 [00:01<00:03, 555.92it/s]"
     ]
    },
    {
     "name": "stderr",
     "output_type": "stream",
     "text": [
      "\r 26%|████████████████████▎                                                         | 652/2500 [00:01<00:03, 554.89it/s]"
     ]
    },
    {
     "name": "stderr",
     "output_type": "stream",
     "text": [
      "\r 29%|██████████████████████▎                                                       | 715/2500 [00:01<00:03, 575.44it/s]"
     ]
    },
    {
     "name": "stderr",
     "output_type": "stream",
     "text": [
      "\r 31%|████████████████████████▎                                                     | 781/2500 [00:01<00:02, 596.84it/s]"
     ]
    },
    {
     "name": "stderr",
     "output_type": "stream",
     "text": [
      "\r 34%|██████████████████████████▎                                                   | 842/2500 [00:01<00:03, 551.83it/s]"
     ]
    },
    {
     "name": "stderr",
     "output_type": "stream",
     "text": [
      "\r 36%|████████████████████████████                                                  | 901/2500 [00:01<00:02, 557.97it/s]"
     ]
    },
    {
     "name": "stderr",
     "output_type": "stream",
     "text": [
      "\r 38%|█████████████████████████████▉                                                | 958/2500 [00:01<00:02, 551.74it/s]"
     ]
    },
    {
     "name": "stderr",
     "output_type": "stream",
     "text": [
      "\r 41%|███████████████████████████████▌                                             | 1024/2500 [00:02<00:02, 580.29it/s]"
     ]
    },
    {
     "name": "stderr",
     "output_type": "stream",
     "text": [
      "\r 43%|█████████████████████████████████▎                                           | 1083/2500 [00:02<00:02, 547.45it/s]"
     ]
    },
    {
     "name": "stderr",
     "output_type": "stream",
     "text": [
      "\r 46%|███████████████████████████████████▏                                         | 1143/2500 [00:02<00:02, 560.65it/s]"
     ]
    },
    {
     "name": "stderr",
     "output_type": "stream",
     "text": [
      "\r 49%|█████████████████████████████████████▍                                       | 1216/2500 [00:02<00:02, 599.62it/s]"
     ]
    },
    {
     "name": "stderr",
     "output_type": "stream",
     "text": [
      "\r 51%|███████████████████████████████████████▌                                     | 1285/2500 [00:02<00:01, 622.46it/s]"
     ]
    },
    {
     "name": "stderr",
     "output_type": "stream",
     "text": [
      "\r 54%|█████████████████████████████████████████▌                                   | 1349/2500 [00:02<00:01, 622.12it/s]"
     ]
    },
    {
     "name": "stderr",
     "output_type": "stream",
     "text": [
      "\r 57%|███████████████████████████████████████████▌                                 | 1415/2500 [00:02<00:01, 632.98it/s]"
     ]
    },
    {
     "name": "stderr",
     "output_type": "stream",
     "text": [
      "\r 59%|█████████████████████████████████████████████▌                               | 1479/2500 [00:02<00:01, 606.23it/s]"
     ]
    },
    {
     "name": "stderr",
     "output_type": "stream",
     "text": [
      "\r 62%|███████████████████████████████████████████████▍                             | 1541/2500 [00:02<00:01, 608.49it/s]"
     ]
    },
    {
     "name": "stderr",
     "output_type": "stream",
     "text": [
      "\r 64%|█████████████████████████████████████████████████▍                           | 1604/2500 [00:03<00:01, 614.79it/s]"
     ]
    },
    {
     "name": "stderr",
     "output_type": "stream",
     "text": [
      "\r 67%|███████████████████████████████████████████████████▎                         | 1666/2500 [00:03<00:01, 612.70it/s]"
     ]
    },
    {
     "name": "stderr",
     "output_type": "stream",
     "text": [
      "\r 69%|█████████████████████████████████████████████████████▏                       | 1728/2500 [00:03<00:01, 580.35it/s]"
     ]
    },
    {
     "name": "stderr",
     "output_type": "stream",
     "text": [
      "\r 71%|███████████████████████████████████████████████████████                      | 1787/2500 [00:03<00:01, 573.01it/s]"
     ]
    },
    {
     "name": "stderr",
     "output_type": "stream",
     "text": [
      "\r 74%|████████████████████████████████████████████████████████▊                    | 1845/2500 [00:03<00:01, 539.76it/s]"
     ]
    },
    {
     "name": "stderr",
     "output_type": "stream",
     "text": [
      "\r 76%|██████████████████████████████████████████████████████████▋                  | 1906/2500 [00:03<00:01, 556.03it/s]"
     ]
    },
    {
     "name": "stderr",
     "output_type": "stream",
     "text": [
      "\r 79%|████████████████████████████████████████████████████████████▌                | 1967/2500 [00:03<00:00, 571.18it/s]"
     ]
    },
    {
     "name": "stderr",
     "output_type": "stream",
     "text": [
      "\r 81%|██████████████████████████████████████████████████████████████▍              | 2027/2500 [00:03<00:00, 577.87it/s]"
     ]
    },
    {
     "name": "stderr",
     "output_type": "stream",
     "text": [
      "\r 83%|████████████████████████████████████████████████████████████████▏            | 2086/2500 [00:03<00:00, 576.32it/s]"
     ]
    },
    {
     "name": "stderr",
     "output_type": "stream",
     "text": [
      "\r 86%|██████████████████████████████████████████████████████████████████           | 2144/2500 [00:03<00:00, 573.97it/s]"
     ]
    },
    {
     "name": "stderr",
     "output_type": "stream",
     "text": [
      "\r 88%|███████████████████████████████████████████████████████████████████▊         | 2202/2500 [00:04<00:00, 554.34it/s]"
     ]
    },
    {
     "name": "stderr",
     "output_type": "stream",
     "text": [
      "\r 90%|█████████████████████████████████████████████████████████████████████▌       | 2258/2500 [00:04<00:00, 544.66it/s]"
     ]
    },
    {
     "name": "stderr",
     "output_type": "stream",
     "text": [
      "\r 93%|███████████████████████████████████████████████████████████████████████▎     | 2315/2500 [00:04<00:00, 548.84it/s]"
     ]
    },
    {
     "name": "stderr",
     "output_type": "stream",
     "text": [
      "\r 95%|█████████████████████████████████████████████████████████████████████████    | 2371/2500 [00:04<00:00, 540.93it/s]"
     ]
    },
    {
     "name": "stderr",
     "output_type": "stream",
     "text": [
      "\r 97%|███████████████████████████████████████████████████████████████████████████  | 2436/2500 [00:04<00:00, 566.63it/s]"
     ]
    },
    {
     "name": "stderr",
     "output_type": "stream",
     "text": [
      "\r100%|█████████████████████████████████████████████████████████████████████████████| 2500/2500 [00:04<00:00, 585.21it/s]"
     ]
    },
    {
     "name": "stderr",
     "output_type": "stream",
     "text": [
      "\n"
     ]
    },
    {
     "name": "stderr",
     "output_type": "stream",
     "text": [
      "Tuning was enabled throughout the whole trace."
     ]
    },
    {
     "name": "stderr",
     "output_type": "stream",
     "text": [
      "\n"
     ]
    },
    {
     "name": "stderr",
     "output_type": "stream",
     "text": [
      "Tuning was enabled throughout the whole trace."
     ]
    },
    {
     "name": "stderr",
     "output_type": "stream",
     "text": [
      "\n"
     ]
    },
    {
     "name": "stderr",
     "output_type": "stream",
     "text": [
      "The number of effective samples is smaller than 25% for some parameters."
     ]
    },
    {
     "name": "stderr",
     "output_type": "stream",
     "text": [
      "\n"
     ]
    }
   ],
   "source": [
    "with mdl_studentt:\n",
    "\n",
    "    ## find MAP using Powell, seems to be more robust\n",
    "    start_MAP = pm.find_MAP(fmin=optimize.fmin_powell, disp=True)\n",
    "\n",
    "    ## two-step sampling to allow Metropolis for nu (which is discrete)\n",
    "    step1 = pm.NUTS([b0, b1])\n",
    "    step2 = pm.Metropolis([nu])\n",
    "    \n",
    "    ## take samples\n",
    "    traces_studentt = pm.sample(2000, start=start_MAP, step=[step1, step2], progressbar=True)"
   ]
  },
  {
   "cell_type": "code",
   "execution_count": 45,
   "metadata": {},
   "outputs": [
    {
     "data": {
      "image/png": "[encoded data removed]",
      "text/plain": [
       "<Figure size 864x324 with 6 Axes>"
      ]
     },
     "metadata": {},
     "output_type": "display_data"
    }
   ],
   "source": [
    "_ = pm.traceplot(traces_studentt[-1000:]\n",
    "            ,figsize=(12,len(traces_studentt.varnames)*1.5)\n",
    "            ,lines={k: v['mean'] for k, v in pm.summary(traces_studentt[-1000:]).iterrows()})"
   ]
  },
  {
   "cell_type": "markdown",
   "metadata": {},
   "source": [
    "**Observe:**\n",
    "\n",
    "+ Both parameters `b0` and `b1` show ...\n",
    "+ The `nu` parameter seems very happy to stick at `nu = 1`, indicating that ...\n",
    "+ The inference sampling also ran very ..."
   ]
  },
  {
   "cell_type": "markdown",
   "metadata": {},
   "source": [
    "### Create Robust Model with Outliers: Hogg Method"
   ]
  },
  {
   "cell_type": "markdown",
   "metadata": {},
   "source": [
    "Please read the paper (Hogg 2010) and Jake Vanderplas' code for more complete information about the modelling technique.\n",
    "\n",
    "The general idea is to create a 'mixture' model whereby datapoints can be described by either the linear model (inliers) or a modified linear model with different mean and larger variance (outliers).\n",
    "\n",
    "\n",
    "The likelihood is evaluated over a mixture of two likelihoods, one for 'inliers', one for 'outliers'. A Bernouilli distribution is used to randomly assign datapoints in N to either the inlier or outlier groups, and we sample the model as usual to infer robust model parameters and inlier / outlier flags:\n",
    "\n",
    "$$\n",
    "\\mathcal{logL} = \\sum_{i}^{i=N} log \\left[ \\frac{(1 - B_{i})}{\\sqrt{2 \\pi \\sigma_{in}^{2}}} exp \\left( - \\frac{(x_{i} - \\mu_{in})^{2}}{2\\sigma_{in}^{2}} \\right) \\right] + \\sum_{i}^{i=N} log \\left[ \\frac{B_{i}}{\\sqrt{2 \\pi (\\sigma_{in}^{2} + \\sigma_{out}^{2})}} exp \\left( - \\frac{(x_{i}- \\mu_{out})^{2}}{2(\\sigma_{in}^{2} + \\sigma_{out}^{2})} \\right) \\right]\n",
    "$$\n",
    "\n",
    "where:  \n",
    "$\\bf{B}$ is Bernoulli-distibuted $B_{i} \\in [0_{(inlier)},1_{(outlier)}]$\n",
    "\n"
   ]
  },
  {
   "cell_type": "code",
   "execution_count": 46,
   "metadata": {},
   "outputs": [],
   "source": [
    "def logp_signoise(yobs, is_outlier, yest_in, sigma_y_in, yest_out, sigma_y_out):\n",
    "    '''\n",
    "    Define custom loglikelihood for inliers vs outliers. \n",
    "    NOTE: in this particular case we don't need to use theano's @as_op \n",
    "    decorator because (as stated by Twiecki in conversation) that's only \n",
    "    required if the likelihood cannot be expressed as a theano expression.\n",
    "    We also now get the gradient computation for free.\n",
    "    '''   \n",
    "    \n",
    "    # likelihood for inliers\n",
    "    pdfs_in = T.exp(-(yobs - yest_in + 1e-4)**2 / (2 * sigma_y_in**2)) \n",
    "    pdfs_in /= T.sqrt(2 * np.pi * sigma_y_in**2)\n",
    "    logL_in = T.sum(T.log(pdfs_in) * (1 - is_outlier))\n",
    "\n",
    "    # likelihood for outliers\n",
    "    pdfs_out = T.exp(-(yobs - yest_out + 1e-4)**2 / (2 * (sigma_y_in**2 + sigma_y_out**2))) \n",
    "    pdfs_out /= T.sqrt(2 * np.pi * (sigma_y_in**2 + sigma_y_out**2))\n",
    "    logL_out = T.sum(T.log(pdfs_out) * is_outlier)\n",
    "\n",
    "    return logL_in + logL_out\n"
   ]
  },
  {
   "cell_type": "code",
   "execution_count": 47,
   "metadata": {},
   "outputs": [],
   "source": [
    "with pm.Model() as mdl_signoise:\n",
    "    \n",
    "    ## Define weakly informative Normal priors to give Ridge regression\n",
    "    b0 = pm.Normal('b0_intercept', mu=0, sd=100)\n",
    "    b1 = pm.Normal('b1_slope', mu=0, sd=100)\n",
    " \n",
    "    ## Define linear model\n",
    "    yest_in = b0 + b1 * dfhoggs['x']\n",
    "\n",
    "    ## Define weakly informative priors for the mean and variance of outliers\n",
    "    yest_out = pm.Normal('yest_out', mu=0, sd=100)\n",
    "    sigma_y_out = pm.HalfNormal('sigma_y_out', sd=100)\n",
    "\n",
    "    ## Define Bernoulli inlier / outlier flags according to a hyperprior \n",
    "    ## fraction of outliers, itself constrained to [0,.5] for symmetry\n",
    "    frac_outliers = pm.Uniform('frac_outliers', lower=0., upper=.5)\n",
    "    is_outlier = pm.Bernoulli('is_outlier', p=frac_outliers, shape=dfhoggs.shape[0])  \n",
    "       \n",
    "    ## Extract observed y and sigma_y from dataset, encode as theano objects\n",
    "    yobs = thno.shared(np.asarray(dfhoggs['y'], dtype=thno.config.floatX), name='yobs')\n",
    "    sigma_y_in = thno.shared(np.asarray(dfhoggs['sigma_y']\n",
    "                                , dtype=thno.config.floatX), name='sigma_y_in')\n",
    "        \n",
    "    ## Use custom likelihood using DensityDist\n",
    "    likelihood = pm.DensityDist('likelihood', logp_signoise,\n",
    "                        observed={'yobs':yobs, 'is_outlier':is_outlier,\n",
    "                                  'yest_in':yest_in, 'sigma_y_in':sigma_y_in,\n",
    "                                  'yest_out':yest_out, 'sigma_y_out':sigma_y_out})\n"
   ]
  },
  {
   "cell_type": "code",
   "execution_count": 48,
   "metadata": {},
   "outputs": [
    {
     "name": "stderr",
     "output_type": "stream",
     "text": [
      "\r  0%|                                                                                         | 0/5000 [00:00<?, ?it/s]"
     ]
    },
    {
     "name": "stderr",
     "output_type": "stream",
     "text": [
      "\rlogp = -264.7:   0%|                                                                          | 0/5000 [00:00<?, ?it/s]"
     ]
    },
    {
     "name": "stderr",
     "output_type": "stream",
     "text": [
      "\rlogp = -258.94:   0%|▏                                                              | 10/5000 [00:00<00:05, 833.11it/s]"
     ]
    },
    {
     "name": "stderr",
     "output_type": "stream",
     "text": [
      "\rlogp = -258.94:   0%|▎                                                              | 20/5000 [00:00<00:05, 951.84it/s]"
     ]
    },
    {
     "name": "stderr",
     "output_type": "stream",
     "text": [
      "\rlogp = -258.62:   1%|▎                                                             | 30/5000 [00:00<00:04, 1034.41it/s]"
     ]
    },
    {
     "name": "stderr",
     "output_type": "stream",
     "text": [
      "\rlogp = -258.62:   1%|▍                                                             | 40/5000 [00:00<00:04, 1052.48it/s]"
     ]
    },
    {
     "name": "stderr",
     "output_type": "stream",
     "text": [
      "\rlogp = -258.62:   1%|▌                                                             | 50/5000 [00:00<00:04, 1086.98it/s]"
     ]
    },
    {
     "name": "stderr",
     "output_type": "stream",
     "text": [
      "\rlogp = -164.72:   1%|▋                                                             | 60/5000 [00:00<00:04, 1090.89it/s]"
     ]
    },
    {
     "name": "stderr",
     "output_type": "stream",
     "text": [
      "\rlogp = -155.46:   1%|▊                                                             | 70/5000 [00:00<00:04, 1076.79it/s]"
     ]
    },
    {
     "name": "stderr",
     "output_type": "stream",
     "text": [
      "\rlogp = -155.46:   2%|▉                                                             | 80/5000 [00:00<00:04, 1095.86it/s]"
     ]
    },
    {
     "name": "stderr",
     "output_type": "stream",
     "text": [
      "\rlogp = -155.46:   2%|█                                                             | 90/5000 [00:00<00:04, 1124.97it/s]"
     ]
    },
    {
     "name": "stderr",
     "output_type": "stream",
     "text": [
      "\rlogp = -155.46:   2%|█▏                                                           | 100/5000 [00:00<00:04, 1123.59it/s]"
     ]
    },
    {
     "name": "stderr",
     "output_type": "stream",
     "text": [
      "\rlogp = -886.97:   2%|█▎                                                           | 110/5000 [00:00<00:04, 1145.83it/s]"
     ]
    },
    {
     "name": "stderr",
     "output_type": "stream",
     "text": [
      "\rlogp = -886.97:   2%|█▎                                                           | 111/5000 [00:00<00:04, 1109.99it/s]"
     ]
    },
    {
     "name": "stderr",
     "output_type": "stream",
     "text": [
      "\rlogp = -155.44:   2%|█▍                                                           | 120/5000 [00:00<00:04, 1109.99it/s]"
     ]
    },
    {
     "name": "stderr",
     "output_type": "stream",
     "text": [
      "\rlogp = -155.44:   3%|█▌                                                           | 130/5000 [00:00<00:04, 1109.99it/s]"
     ]
    },
    {
     "name": "stderr",
     "output_type": "stream",
     "text": [
      "\rlogp = -155.44:   3%|█▋                                                           | 140/5000 [00:00<00:04, 1109.99it/s]"
     ]
    },
    {
     "name": "stderr",
     "output_type": "stream",
     "text": [
      "\rlogp = -155.44:   3%|█▊                                                           | 150/5000 [00:00<00:04, 1109.99it/s]"
     ]
    },
    {
     "name": "stderr",
     "output_type": "stream",
     "text": [
      "\rlogp = -155.44:   3%|█▉                                                           | 160/5000 [00:00<00:04, 1109.99it/s]"
     ]
    },
    {
     "name": "stderr",
     "output_type": "stream",
     "text": [
      "\rlogp = -155.44:   3%|██                                                           | 170/5000 [00:00<00:04, 1109.99it/s]"
     ]
    },
    {
     "name": "stderr",
     "output_type": "stream",
     "text": [
      "\rlogp = -155.44:   4%|██▏                                                          | 180/5000 [00:00<00:04, 1109.99it/s]"
     ]
    },
    {
     "name": "stderr",
     "output_type": "stream",
     "text": [
      "\rlogp = -155.44:   4%|██▎                                                          | 190/5000 [00:00<00:04, 1109.99it/s]"
     ]
    },
    {
     "name": "stderr",
     "output_type": "stream",
     "text": [
      "\rlogp = -155.44:   4%|██▍                                                          | 200/5000 [00:00<00:04, 1109.99it/s]"
     ]
    },
    {
     "name": "stderr",
     "output_type": "stream",
     "text": [
      "\rlogp = -155.44:   4%|██▌                                                          | 210/5000 [00:00<00:04, 1109.99it/s]"
     ]
    },
    {
     "name": "stderr",
     "output_type": "stream",
     "text": [
      "\rlogp = -155.44:   4%|██▋                                                          | 220/5000 [00:00<00:04, 1109.99it/s]"
     ]
    },
    {
     "name": "stdout",
     "output_type": "stream",
     "text": [
      "Optimization terminated successfully."
     ]
    },
    {
     "name": "stdout",
     "output_type": "stream",
     "text": [
      "\n"
     ]
    },
    {
     "name": "stdout",
     "output_type": "stream",
     "text": [
      "         Current function value: 155.439668"
     ]
    },
    {
     "name": "stdout",
     "output_type": "stream",
     "text": [
      "\n"
     ]
    },
    {
     "name": "stdout",
     "output_type": "stream",
     "text": [
      "         Iterations: 3"
     ]
    },
    {
     "name": "stdout",
     "output_type": "stream",
     "text": [
      "\n"
     ]
    },
    {
     "name": "stdout",
     "output_type": "stream",
     "text": [
      "         Function evaluations: 227"
     ]
    },
    {
     "name": "stdout",
     "output_type": "stream",
     "text": [
      "\n"
     ]
    },
    {
     "name": "stderr",
     "output_type": "stream",
     "text": [
      "\rlogp = -155.44:   5%|██▊                                                           | 227/5000 [00:00<00:06, 744.24it/s]"
     ]
    },
    {
     "name": "stderr",
     "output_type": "stream",
     "text": [
      "\n"
     ]
    },
    {
     "name": "stderr",
     "output_type": "stream",
     "text": [
      "Multiprocess sampling (2 chains in 2 jobs)"
     ]
    },
    {
     "name": "stderr",
     "output_type": "stream",
     "text": [
      "\n"
     ]
    },
    {
     "name": "stderr",
     "output_type": "stream",
     "text": [
      "CompoundStep"
     ]
    },
    {
     "name": "stderr",
     "output_type": "stream",
     "text": [
      "\n"
     ]
    },
    {
     "name": "stderr",
     "output_type": "stream",
     "text": [
      ">NUTS: [b1_slope, b0_intercept, sigma_y_out_log__, yest_out, frac_outliers_interval__]"
     ]
    },
    {
     "name": "stderr",
     "output_type": "stream",
     "text": [
      "\n"
     ]
    },
    {
     "name": "stderr",
     "output_type": "stream",
     "text": [
      ">BinaryMetropolis: [is_outlier]"
     ]
    },
    {
     "name": "stderr",
     "output_type": "stream",
     "text": [
      "\n"
     ]
    },
    {
     "name": "stderr",
     "output_type": "stream",
     "text": [
      "Could not pickle model, sampling singlethreaded."
     ]
    },
    {
     "name": "stderr",
     "output_type": "stream",
     "text": [
      "\n"
     ]
    },
    {
     "name": "stderr",
     "output_type": "stream",
     "text": [
      "Sequential sampling (2 chains in 1 job)"
     ]
    },
    {
     "name": "stderr",
     "output_type": "stream",
     "text": [
      "\n"
     ]
    },
    {
     "name": "stderr",
     "output_type": "stream",
     "text": [
      "CompoundStep"
     ]
    },
    {
     "name": "stderr",
     "output_type": "stream",
     "text": [
      "\n"
     ]
    },
    {
     "name": "stderr",
     "output_type": "stream",
     "text": [
      ">NUTS: [b1_slope, b0_intercept, sigma_y_out_log__, yest_out, frac_outliers_interval__]"
     ]
    },
    {
     "name": "stderr",
     "output_type": "stream",
     "text": [
      "\n"
     ]
    },
    {
     "name": "stderr",
     "output_type": "stream",
     "text": [
      ">BinaryMetropolis: [is_outlier]"
     ]
    },
    {
     "name": "stderr",
     "output_type": "stream",
     "text": [
      "\n"
     ]
    },
    {
     "name": "stderr",
     "output_type": "stream",
     "text": [
      "\r  0%|                                                                                         | 0/2500 [00:00<?, ?it/s]"
     ]
    },
    {
     "name": "stderr",
     "output_type": "stream",
     "text": [
      "Exception in thread QueueFeederThread:\nTraceback (most recent call last):\n  File \"C:\\Users\\Alex\\Anaconda3\\lib\\site-packages\\joblib\\externals\\loky\\backend\\queues.py\", line 150, in _feed\n    obj_ = dumps(obj, reducers=reducers)\n  File \"C:\\Users\\Alex\\Anaconda3\\lib\\site-packages\\joblib\\externals\\loky\\backend\\reduction.py\", line 243, in dumps\n    dump(obj, buf, reducers=reducers, protocol=protocol)\n  File \"C:\\Users\\Alex\\Anaconda3\\lib\\site-packages\\joblib\\externals\\loky\\backend\\reduction.py\", line 236, in dump\n    _LokyPickler(file, reducers=reducers, protocol=protocol).dump(obj)\n  File \"C:\\Users\\Alex\\Anaconda3\\lib\\site-packages\\joblib\\externals\\cloudpickle\\cloudpickle.py\", line 267, in dump\n    return Pickler.dump(self, obj)\n  File \"C:\\Users\\Alex\\Anaconda3\\lib\\pickle.py\", line 409, in dump\n    self.save(obj)\n  File \"C:\\Users\\Alex\\Anaconda3\\lib\\pickle.py\", line 521, in save\n    self.save_reduce(obj=obj, *rv)\n  File \"C:\\Users\\Alex\\Anaconda3\\lib\\pickle.py\", line 634, in save_reduce\n    save(state)\n  File \"C:\\Users\\Alex\\Anaconda3\\lib\\pickle.py\", line 476, in save\n    f(self, obj) # Call unbound method with explicit self\n  File \"C:\\Users\\Alex\\Anaconda3\\lib\\pickle.py\", line 821, in save_dict\n    self._batch_setitems(obj.items())\n  File \"C:\\Users\\Alex\\Anaconda3\\lib\\pickle.py\", line 847, in _batch_setitems\n    save(v)\n  File \"C:\\Users\\Alex\\Anaconda3\\lib\\pickle.py\", line 521, in save\n    self.save_reduce(obj=obj, *rv)\n  File \"C:\\Users\\Alex\\Anaconda3\\lib\\pickle.py\", line 634, in save_reduce\n    save(state)\n  File \"C:\\Users\\Alex\\Anaconda3\\lib\\pickle.py\", line 476, in save\n    f(self, obj) # Call unbound method with explicit self\n  File \"C:\\Users\\Alex\\Anaconda3\\lib\\pickle.py\", line 821, in save_dict\n    self._batch_setitems(obj.items())\n  File \"C:\\Users\\Alex\\Anaconda3\\lib\\pickle.py\", line 852, in _batch_setitems\n    save(v)\n  File \"C:\\Users\\Alex\\Anaconda3\\lib\\pickle.py\", line 521, in save\n    self.save_reduce(obj=obj, *rv)\n  File \"C:\\Users\\Alex\\Anaconda3\\lib\\pickle.py\", line 634, in save_reduce\n    save(state)\n  File \"C:\\Users\\Alex\\Anaconda3\\lib\\pickle.py\", line 476, in save\n    f(self, obj) # Call unbound method with explicit self\n  File \"C:\\Users\\Alex\\Anaconda3\\lib\\pickle.py\", line 821, in save_dict\n    self._batch_setitems(obj.items())\n  File \"C:\\Users\\Alex\\Anaconda3\\lib\\pickle.py\", line 847, in _batch_setitems\n    save(v)\n  File \"C:\\Users\\Alex\\Anaconda3\\lib\\pickle.py\", line 476, in save\n    f(self, obj) # Call unbound method with explicit self\n  File \"C:\\Users\\Alex\\Anaconda3\\lib\\pickle.py\", line 781, in save_list\n    self._batch_appends(obj)\n  File \"C:\\Users\\Alex\\Anaconda3\\lib\\pickle.py\", line 808, in _batch_appends\n    save(tmp[0])\n  File \"C:\\Users\\Alex\\Anaconda3\\lib\\pickle.py\", line 476, in save\n    f(self, obj) # Call unbound method with explicit self\n  File \"C:\\Users\\Alex\\Anaconda3\\lib\\pickle.py\", line 736, in save_tuple\n    save(element)\n  File \"C:\\Users\\Alex\\Anaconda3\\lib\\pickle.py\", line 476, in save\n    f(self, obj) # Call unbound method with explicit self\n  File \"C:\\Users\\Alex\\Anaconda3\\lib\\pickle.py\", line 821, in save_dict\n    self._batch_setitems(obj.items())\n  File \"C:\\Users\\Alex\\Anaconda3\\lib\\pickle.py\", line 847, in _batch_setitems\n    save(v)\n  File \"C:\\Users\\Alex\\Anaconda3\\lib\\pickle.py\", line 521, in save\n    self.save_reduce(obj=obj, *rv)\n  File \"C:\\Users\\Alex\\Anaconda3\\lib\\pickle.py\", line 634, in save_reduce\n    save(state)\n  File \"C:\\Users\\Alex\\Anaconda3\\lib\\pickle.py\", line 476, in save\n    f(self, obj) # Call unbound method with explicit self\n  File \"C:\\Users\\Alex\\Anaconda3\\lib\\pickle.py\", line 821, in save_dict\n    self._batch_setitems(obj.items())\n  File \"C:\\Users\\Alex\\Anaconda3\\lib\\pickle.py\", line 847, in _batch_setitems\n    save(v)\n  File \"C:\\Users\\Alex\\Anaconda3\\lib\\pickle.py\", line 476, in save\n    f(self, obj) # Call unbound method with explicit self\n  File \"C:\\Users\\Alex\\Anaconda3\\lib\\pickle.py\", line 781, in save_list\n    self._batch_appends(obj)\n  File \"C:\\Users\\Alex\\Anaconda3\\lib\\pickle.py\", line 805, in _batch_appends\n    save(x)\n  File \"C:\\Users\\Alex\\Anaconda3\\lib\\pickle.py\", line 521, in save\n    self.save_reduce(obj=obj, *rv)\n  File \"C:\\Users\\Alex\\Anaconda3\\lib\\pickle.py\", line 634, in save_reduce\n    save(state)\n  File \"C:\\Users\\Alex\\Anaconda3\\lib\\pickle.py\", line 476, in save\n    f(self, obj) # Call unbound method with explicit self\n  File \"C:\\Users\\Alex\\Anaconda3\\lib\\pickle.py\", line 821, in save_dict\n    self._batch_setitems(obj.items())\n  File \"C:\\Users\\Alex\\Anaconda3\\lib\\pickle.py\", line 847, in _batch_setitems\n    save(v)\n  File \"C:\\Users\\Alex\\Anaconda3\\lib\\pickle.py\", line 521, in save\n    self.save_reduce(obj=obj, *rv)\n  File \"C:\\Users\\Alex\\Anaconda3\\lib\\pickle.py\", line 634, in save_reduce\n    save(state)\n  File \"C:\\Users\\Alex\\Anaconda3\\lib\\pickle.py\", line 476, in save\n    f(self, obj) # Call unbound method with explicit self\n  File \"C:\\Users\\Alex\\Anaconda3\\lib\\pickle.py\", line 821, in save_dict\n    self._batch_setitems(obj.items())\n  File \"C:\\Users\\Alex\\Anaconda3\\lib\\pickle.py\", line 847, in _batch_setitems\n    save(v)\n  File \"C:\\Users\\Alex\\Anaconda3\\lib\\pickle.py\", line 521, in save\n    self.save_reduce(obj=obj, *rv)\n  File \"C:\\Users\\Alex\\Anaconda3\\lib\\pickle.py\", line 634, in save_reduce\n    save(state)\n  File \"C:\\Users\\Alex\\Anaconda3\\lib\\pickle.py\", line 476, in save\n    f(self, obj) # Call unbound method with explicit self\n  File \"C:\\Users\\Alex\\Anaconda3\\lib\\pickle.py\", line 821, in save_dict\n    self._batch_setitems(obj.items())\n  File \"C:\\Users\\Alex\\Anaconda3\\lib\\pickle.py\", line 847, in _batch_setitems\n    save(v)\n  File \"C:\\Users\\Alex\\Anaconda3\\lib\\pickle.py\", line 496, in save\n    rv = reduce(self.proto)\nTypeError: can't pickle CVM objects\n\nDuring handling of the above exception, another exception occurred:\n\nTraceback (most recent call last):\n  File \"C:\\Users\\Alex\\Anaconda3\\lib\\threading.py\", line 916, in _bootstrap_inner\n    self.run()\n  File \"C:\\Users\\Alex\\Anaconda3\\lib\\threading.py\", line 864, in run\n    self._target(*self._args, **self._kwargs)\n  File \"C:\\Users\\Alex\\Anaconda3\\lib\\site-packages\\joblib\\externals\\loky\\backend\\queues.py\", line 175, in _feed\n    onerror(e, obj)\n  File \"C:\\Users\\Alex\\Anaconda3\\lib\\site-packages\\joblib\\externals\\loky\\process_executor.py\", line 310, in _on_queue_feeder_error\n    self.thread_wakeup.wakeup()\n  File \"C:\\Users\\Alex\\Anaconda3\\lib\\site-packages\\joblib\\externals\\loky\\process_executor.py\", line 155, in wakeup\n    self._writer.send_bytes(b\"\")\n  File \"C:\\Users\\Alex\\Anaconda3\\lib\\multiprocessing\\connection.py\", line 183, in send_bytes\n    self._check_closed()\n  File \"C:\\Users\\Alex\\Anaconda3\\lib\\multiprocessing\\connection.py\", line 136, in _check_closed\n    raise OSError(\"handle is closed\")\nOSError: handle is closed\n"
     ]
    },
    {
     "name": "stderr",
     "output_type": "stream",
     "text": [
      "\n"
     ]
    },
    {
     "name": "stderr",
     "output_type": "stream",
     "text": [
      "\r  0%|                                                                                 | 1/2500 [00:01<58:41,  1.41s/it]"
     ]
    },
    {
     "name": "stderr",
     "output_type": "stream",
     "text": [
      "\r  1%|▋                                                                               | 21/2500 [00:01<40:49,  1.01it/s]"
     ]
    },
    {
     "name": "stderr",
     "output_type": "stream",
     "text": [
      "\r  1%|█                                                                               | 33/2500 [00:01<28:32,  1.44it/s]"
     ]
    },
    {
     "name": "stderr",
     "output_type": "stream",
     "text": [
      "\r  2%|█▎                                                                              | 41/2500 [00:01<20:04,  2.04it/s]"
     ]
    },
    {
     "name": "stderr",
     "output_type": "stream",
     "text": [
      "\r  2%|█▌                                                                              | 49/2500 [00:01<14:11,  2.88it/s]"
     ]
    },
    {
     "name": "stderr",
     "output_type": "stream",
     "text": [
      "\r  3%|██                                                                              | 63/2500 [00:01<09:58,  4.07it/s]"
     ]
    },
    {
     "name": "stderr",
     "output_type": "stream",
     "text": [
      "\r  3%|██▍                                                                             | 77/2500 [00:02<07:02,  5.74it/s]"
     ]
    },
    {
     "name": "stderr",
     "output_type": "stream",
     "text": [
      "\r  4%|██▉                                                                             | 91/2500 [00:02<04:59,  8.05it/s]"
     ]
    },
    {
     "name": "stderr",
     "output_type": "stream",
     "text": [
      "\r  4%|███▎                                                                           | 103/2500 [00:02<03:34, 11.16it/s]"
     ]
    },
    {
     "name": "stderr",
     "output_type": "stream",
     "text": [
      "\r  5%|███▋                                                                           | 115/2500 [00:02<02:45, 14.42it/s]"
     ]
    },
    {
     "name": "stderr",
     "output_type": "stream",
     "text": [
      "\r  5%|███▉                                                                           | 125/2500 [00:02<02:03, 19.16it/s]"
     ]
    },
    {
     "name": "stderr",
     "output_type": "stream",
     "text": [
      "\r  5%|████▏                                                                          | 134/2500 [00:02<01:39, 23.73it/s]"
     ]
    },
    {
     "name": "stderr",
     "output_type": "stream",
     "text": [
      "\r  6%|████▍                                                                          | 142/2500 [00:02<01:21, 28.84it/s]"
     ]
    },
    {
     "name": "stderr",
     "output_type": "stream",
     "text": [
      "\r  6%|████▊                                                                          | 152/2500 [00:03<01:04, 36.47it/s]"
     ]
    },
    {
     "name": "stderr",
     "output_type": "stream",
     "text": [
      "\r  6%|█████                                                                          | 160/2500 [00:03<00:55, 42.14it/s]"
     ]
    },
    {
     "name": "stderr",
     "output_type": "stream",
     "text": [
      "\r  7%|█████▎                                                                         | 168/2500 [00:03<00:50, 46.22it/s]"
     ]
    },
    {
     "name": "stderr",
     "output_type": "stream",
     "text": [
      "\r  7%|█████▌                                                                         | 176/2500 [00:03<00:44, 51.69it/s]"
     ]
    },
    {
     "name": "stderr",
     "output_type": "stream",
     "text": [
      "\r  7%|█████▊                                                                         | 184/2500 [00:03<00:40, 56.60it/s]"
     ]
    },
    {
     "name": "stderr",
     "output_type": "stream",
     "text": [
      "\r  8%|██████                                                                         | 192/2500 [00:03<00:39, 57.75it/s]"
     ]
    },
    {
     "name": "stderr",
     "output_type": "stream",
     "text": [
      "\r  8%|██████▍                                                                        | 204/2500 [00:03<00:33, 67.70it/s]"
     ]
    },
    {
     "name": "stderr",
     "output_type": "stream",
     "text": [
      "\r  9%|███████                                                                        | 223/2500 [00:03<00:27, 83.90it/s]"
     ]
    },
    {
     "name": "stderr",
     "output_type": "stream",
     "text": [
      "\r 10%|███████▊                                                                      | 251/2500 [00:03<00:21, 105.97it/s]"
     ]
    },
    {
     "name": "stderr",
     "output_type": "stream",
     "text": [
      "\r 12%|█████████                                                                     | 289/2500 [00:04<00:16, 134.94it/s]"
     ]
    },
    {
     "name": "stderr",
     "output_type": "stream",
     "text": [
      "\r 13%|██████████                                                                    | 322/2500 [00:04<00:13, 163.78it/s]"
     ]
    },
    {
     "name": "stderr",
     "output_type": "stream",
     "text": [
      "\r 14%|███████████▏                                                                  | 360/2500 [00:04<00:10, 196.27it/s]"
     ]
    },
    {
     "name": "stderr",
     "output_type": "stream",
     "text": [
      "\r 16%|████████████▏                                                                 | 392/2500 [00:04<00:09, 222.02it/s]"
     ]
    },
    {
     "name": "stderr",
     "output_type": "stream",
     "text": [
      "\r 17%|█████████████▎                                                                | 426/2500 [00:04<00:08, 246.74it/s]"
     ]
    },
    {
     "name": "stderr",
     "output_type": "stream",
     "text": [
      "\r 18%|██████████████▎                                                               | 457/2500 [00:04<00:07, 256.31it/s]"
     ]
    },
    {
     "name": "stderr",
     "output_type": "stream",
     "text": [
      "\r 20%|███████████████▏                                                              | 488/2500 [00:04<00:07, 259.49it/s]"
     ]
    },
    {
     "name": "stderr",
     "output_type": "stream",
     "text": [
      "\r 21%|████████████████▏                                                             | 518/2500 [00:04<00:07, 263.33it/s]"
     ]
    },
    {
     "name": "stderr",
     "output_type": "stream",
     "text": [
      "\r 22%|█████████████████                                                             | 547/2500 [00:04<00:07, 270.80it/s]"
     ]
    },
    {
     "name": "stderr",
     "output_type": "stream",
     "text": [
      "\r 23%|██████████████████▎                                                           | 586/2500 [00:05<00:06, 297.44it/s]"
     ]
    },
    {
     "name": "stderr",
     "output_type": "stream",
     "text": [
      "\r 25%|███████████████████▎                                                          | 618/2500 [00:05<00:06, 300.46it/s]"
     ]
    },
    {
     "name": "stderr",
     "output_type": "stream",
     "text": [
      "\r 26%|████████████████████▎                                                         | 650/2500 [00:05<00:06, 304.31it/s]"
     ]
    },
    {
     "name": "stderr",
     "output_type": "stream",
     "text": [
      "\r 27%|█████████████████████▎                                                        | 682/2500 [00:05<00:06, 278.24it/s]"
     ]
    },
    {
     "name": "stderr",
     "output_type": "stream",
     "text": [
      "\r 28%|██████████████████████▏                                                       | 711/2500 [00:05<00:07, 244.60it/s]"
     ]
    },
    {
     "name": "stderr",
     "output_type": "stream",
     "text": [
      "\r 30%|███████████████████████                                                       | 740/2500 [00:05<00:06, 255.99it/s]"
     ]
    },
    {
     "name": "stderr",
     "output_type": "stream",
     "text": [
      "\r 31%|████████████████████████                                                      | 770/2500 [00:05<00:06, 267.06it/s]"
     ]
    },
    {
     "name": "stderr",
     "output_type": "stream",
     "text": [
      "\r 32%|█████████████████████████▏                                                    | 808/2500 [00:05<00:05, 291.18it/s]"
     ]
    },
    {
     "name": "stderr",
     "output_type": "stream",
     "text": [
      "\r 34%|██████████████████████████▍                                                   | 846/2500 [00:05<00:05, 312.37it/s]"
     ]
    },
    {
     "name": "stderr",
     "output_type": "stream",
     "text": [
      "\r 35%|███████████████████████████▌                                                  | 883/2500 [00:06<00:04, 325.93it/s]"
     ]
    },
    {
     "name": "stderr",
     "output_type": "stream",
     "text": [
      "\r 37%|████████████████████████████▌                                                 | 917/2500 [00:06<00:04, 324.37it/s]"
     ]
    },
    {
     "name": "stderr",
     "output_type": "stream",
     "text": [
      "\r 38%|█████████████████████████████▋                                                | 952/2500 [00:06<00:04, 330.72it/s]"
     ]
    },
    {
     "name": "stderr",
     "output_type": "stream",
     "text": [
      "\r 40%|██████████████████████████████▊                                               | 989/2500 [00:06<00:04, 339.72it/s]"
     ]
    },
    {
     "name": "stderr",
     "output_type": "stream",
     "text": [
      "\r 41%|███████████████████████████████▋                                             | 1029/2500 [00:06<00:04, 354.84it/s]"
     ]
    },
    {
     "name": "stderr",
     "output_type": "stream",
     "text": [
      "\r 43%|████████████████████████████████▊                                            | 1065/2500 [00:06<00:04, 349.12it/s]"
     ]
    },
    {
     "name": "stderr",
     "output_type": "stream",
     "text": [
      "\r 44%|█████████████████████████████████▉                                           | 1101/2500 [00:06<00:04, 283.96it/s]"
     ]
    },
    {
     "name": "stderr",
     "output_type": "stream",
     "text": [
      "\r 45%|██████████████████████████████████▊                                          | 1132/2500 [00:06<00:04, 281.75it/s]"
     ]
    },
    {
     "name": "stderr",
     "output_type": "stream",
     "text": [
      "\r 47%|████████████████████████████████████▏                                        | 1174/2500 [00:06<00:04, 310.56it/s]"
     ]
    },
    {
     "name": "stderr",
     "output_type": "stream",
     "text": [
      "\r 48%|█████████████████████████████████████▎                                       | 1212/2500 [00:07<00:03, 326.02it/s]"
     ]
    },
    {
     "name": "stderr",
     "output_type": "stream",
     "text": [
      "\r 50%|██████████████████████████████████████▍                                      | 1247/2500 [00:07<00:04, 307.44it/s]"
     ]
    },
    {
     "name": "stderr",
     "output_type": "stream",
     "text": [
      "\r 52%|███████████████████████████████████████▋                                     | 1288/2500 [00:07<00:03, 332.36it/s]"
     ]
    },
    {
     "name": "stderr",
     "output_type": "stream",
     "text": [
      "\r 53%|████████████████████████████████████████▊                                    | 1325/2500 [00:07<00:03, 340.95it/s]"
     ]
    },
    {
     "name": "stderr",
     "output_type": "stream",
     "text": [
      "\r 54%|█████████████████████████████████████████▉                                   | 1361/2500 [00:07<00:03, 333.90it/s]"
     ]
    },
    {
     "name": "stderr",
     "output_type": "stream",
     "text": [
      "\r 56%|███████████████████████████████████████████▏                                 | 1403/2500 [00:07<00:03, 354.00it/s]"
     ]
    },
    {
     "name": "stderr",
     "output_type": "stream",
     "text": [
      "\r 58%|████████████████████████████████████████████▍                                | 1443/2500 [00:07<00:02, 365.63it/s]"
     ]
    },
    {
     "name": "stderr",
     "output_type": "stream",
     "text": [
      "\r 59%|█████████████████████████████████████████████▋                               | 1483/2500 [00:07<00:02, 373.20it/s]"
     ]
    },
    {
     "name": "stderr",
     "output_type": "stream",
     "text": [
      "\r 61%|██████████████████████████████████████████████▊                              | 1521/2500 [00:07<00:02, 373.01it/s]"
     ]
    },
    {
     "name": "stderr",
     "output_type": "stream",
     "text": [
      "\r 62%|████████████████████████████████████████████████                             | 1559/2500 [00:08<00:02, 330.99it/s]"
     ]
    },
    {
     "name": "stderr",
     "output_type": "stream",
     "text": [
      "\r 64%|█████████████████████████████████████████████████                            | 1594/2500 [00:08<00:02, 310.47it/s]"
     ]
    },
    {
     "name": "stderr",
     "output_type": "stream",
     "text": [
      "\r 65%|██████████████████████████████████████████████████                           | 1627/2500 [00:08<00:02, 310.73it/s]"
     ]
    },
    {
     "name": "stderr",
     "output_type": "stream",
     "text": [
      "\r 66%|███████████████████████████████████████████████████                          | 1659/2500 [00:08<00:02, 305.39it/s]"
     ]
    },
    {
     "name": "stderr",
     "output_type": "stream",
     "text": [
      "\r 68%|████████████████████████████████████████████████████                         | 1691/2500 [00:08<00:03, 259.84it/s]"
     ]
    },
    {
     "name": "stderr",
     "output_type": "stream",
     "text": [
      "\r 69%|████████████████████████████████████████████████████▉                        | 1719/2500 [00:08<00:03, 258.24it/s]"
     ]
    },
    {
     "name": "stderr",
     "output_type": "stream",
     "text": [
      "\r 70%|█████████████████████████████████████████████████████▊                       | 1747/2500 [00:08<00:02, 262.90it/s]"
     ]
    },
    {
     "name": "stderr",
     "output_type": "stream",
     "text": [
      "\r 71%|██████████████████████████████████████████████████████▋                      | 1775/2500 [00:08<00:02, 267.06it/s]"
     ]
    },
    {
     "name": "stderr",
     "output_type": "stream",
     "text": [
      "\r 72%|███████████████████████████████████████████████████████▋                     | 1807/2500 [00:08<00:02, 280.25it/s]"
     ]
    },
    {
     "name": "stderr",
     "output_type": "stream",
     "text": [
      "\r 74%|████████████████████████████████████████████████████████▊                    | 1843/2500 [00:09<00:02, 298.70it/s]"
     ]
    },
    {
     "name": "stderr",
     "output_type": "stream",
     "text": [
      "\r 75%|█████████████████████████████████████████████████████████▋                   | 1874/2500 [00:09<00:02, 281.45it/s]"
     ]
    },
    {
     "name": "stderr",
     "output_type": "stream",
     "text": [
      "\r 76%|██████████████████████████████████████████████████████████▋                  | 1907/2500 [00:09<00:02, 293.67it/s]"
     ]
    },
    {
     "name": "stderr",
     "output_type": "stream",
     "text": [
      "\r 78%|███████████████████████████████████████████████████████████▊                 | 1942/2500 [00:09<00:01, 306.93it/s]"
     ]
    },
    {
     "name": "stderr",
     "output_type": "stream",
     "text": [
      "\r 79%|████████████████████████████████████████████████████████████▉                | 1977/2500 [00:09<00:01, 317.84it/s]"
     ]
    },
    {
     "name": "stderr",
     "output_type": "stream",
     "text": [
      "\r 81%|██████████████████████████████████████████████████████████████               | 2016/2500 [00:09<00:01, 335.66it/s]"
     ]
    },
    {
     "name": "stderr",
     "output_type": "stream",
     "text": [
      "\r 82%|███████████████████████████████████████████████████████████████▏             | 2051/2500 [00:09<00:01, 318.49it/s]"
     ]
    },
    {
     "name": "stderr",
     "output_type": "stream",
     "text": [
      "\r 84%|████████████████████████████████████████████████████████████████▍            | 2091/2500 [00:09<00:01, 339.23it/s]"
     ]
    },
    {
     "name": "stderr",
     "output_type": "stream",
     "text": [
      "\r 85%|█████████████████████████████████████████████████████████████████▍           | 2126/2500 [00:09<00:01, 337.42it/s]"
     ]
    },
    {
     "name": "stderr",
     "output_type": "stream",
     "text": [
      "\r 87%|██████████████████████████████████████████████████████████████████▋          | 2165/2500 [00:10<00:00, 349.75it/s]"
     ]
    },
    {
     "name": "stderr",
     "output_type": "stream",
     "text": [
      "\r 88%|███████████████████████████████████████████████████████████████████▊         | 2201/2500 [00:10<00:00, 305.23it/s]"
     ]
    },
    {
     "name": "stderr",
     "output_type": "stream",
     "text": [
      "\r 90%|█████████████████████████████████████████████████████████████████████        | 2243/2500 [00:10<00:00, 327.81it/s]"
     ]
    },
    {
     "name": "stderr",
     "output_type": "stream",
     "text": [
      "\r 91%|██████████████████████████████████████████████████████████████████████▎      | 2284/2500 [00:10<00:00, 347.88it/s]"
     ]
    },
    {
     "name": "stderr",
     "output_type": "stream",
     "text": [
      "\r 93%|███████████████████████████████████████████████████████████████████████▌     | 2322/2500 [00:10<00:00, 355.96it/s]"
     ]
    },
    {
     "name": "stderr",
     "output_type": "stream",
     "text": [
      "\r 94%|████████████████████████████████████████████████████████████████████████▋    | 2359/2500 [00:10<00:00, 357.94it/s]"
     ]
    },
    {
     "name": "stderr",
     "output_type": "stream",
     "text": [
      "\r 96%|█████████████████████████████████████████████████████████████████████████▊   | 2397/2500 [00:10<00:00, 364.28it/s]"
     ]
    },
    {
     "name": "stderr",
     "output_type": "stream",
     "text": [
      "\r 97%|███████████████████████████████████████████████████████████████████████████  | 2436/2500 [00:10<00:00, 329.84it/s]"
     ]
    },
    {
     "name": "stderr",
     "output_type": "stream",
     "text": [
      "\r 99%|████████████████████████████████████████████████████████████████████████████▍| 2481/2500 [00:10<00:00, 358.56it/s]"
     ]
    },
    {
     "name": "stderr",
     "output_type": "stream",
     "text": [
      "\r100%|█████████████████████████████████████████████████████████████████████████████| 2500/2500 [00:11<00:00, 226.96it/s]"
     ]
    },
    {
     "name": "stderr",
     "output_type": "stream",
     "text": [
      "\n"
     ]
    },
    {
     "name": "stderr",
     "output_type": "stream",
     "text": [
      "\r  0%|                                                                                         | 0/2500 [00:00<?, ?it/s]"
     ]
    },
    {
     "name": "stderr",
     "output_type": "stream",
     "text": [
      "\r  0%|                                                                                 | 1/2500 [00:00<05:42,  7.30it/s]"
     ]
    },
    {
     "name": "stderr",
     "output_type": "stream",
     "text": [
      "\r  1%|▌                                                                               | 19/2500 [00:00<04:02, 10.24it/s]"
     ]
    },
    {
     "name": "stderr",
     "output_type": "stream",
     "text": [
      "\r  1%|▉                                                                               | 30/2500 [00:00<02:55, 14.05it/s]"
     ]
    },
    {
     "name": "stderr",
     "output_type": "stream",
     "text": [
      "\r  2%|█▍                                                                              | 44/2500 [00:00<02:07, 19.22it/s]"
     ]
    },
    {
     "name": "stderr",
     "output_type": "stream",
     "text": [
      "\r  2%|█▊                                                                              | 56/2500 [00:00<01:35, 25.59it/s]"
     ]
    },
    {
     "name": "stderr",
     "output_type": "stream",
     "text": [
      "\r  3%|██▏                                                                             | 67/2500 [00:00<01:13, 33.06it/s]"
     ]
    },
    {
     "name": "stderr",
     "output_type": "stream",
     "text": [
      "\r  3%|██▌                                                                             | 81/2500 [00:00<00:56, 42.54it/s]"
     ]
    },
    {
     "name": "stderr",
     "output_type": "stream",
     "text": [
      "\r  4%|██▉                                                                             | 93/2500 [00:00<00:45, 52.69it/s]"
     ]
    },
    {
     "name": "stderr",
     "output_type": "stream",
     "text": [
      "\r  4%|███▍                                                                           | 107/2500 [00:00<00:36, 64.73it/s]"
     ]
    },
    {
     "name": "stderr",
     "output_type": "stream",
     "text": [
      "\r  5%|███▉                                                                           | 124/2500 [00:01<00:30, 79.05it/s]"
     ]
    },
    {
     "name": "stderr",
     "output_type": "stream",
     "text": [
      "\r  6%|████▎                                                                          | 138/2500 [00:01<00:26, 89.88it/s]"
     ]
    },
    {
     "name": "stderr",
     "output_type": "stream",
     "text": [
      "\r  7%|█████▎                                                                        | 171/2500 [00:01<00:20, 114.85it/s]"
     ]
    },
    {
     "name": "stderr",
     "output_type": "stream",
     "text": [
      "\r  8%|██████▌                                                                       | 211/2500 [00:01<00:15, 145.78it/s]"
     ]
    },
    {
     "name": "stderr",
     "output_type": "stream",
     "text": [
      "\r 10%|███████▊                                                                      | 251/2500 [00:01<00:12, 179.64it/s]"
     ]
    },
    {
     "name": "stderr",
     "output_type": "stream",
     "text": [
      "\r 12%|████████▉                                                                     | 288/2500 [00:01<00:10, 211.70it/s]"
     ]
    },
    {
     "name": "stderr",
     "output_type": "stream",
     "text": [
      "\r 13%|██████████▎                                                                   | 330/2500 [00:01<00:08, 248.70it/s]"
     ]
    },
    {
     "name": "stderr",
     "output_type": "stream",
     "text": [
      "\r 15%|███████████▍                                                                  | 366/2500 [00:01<00:07, 272.89it/s]"
     ]
    },
    {
     "name": "stderr",
     "output_type": "stream",
     "text": [
      "\r 16%|████████████▋                                                                 | 406/2500 [00:01<00:06, 300.96it/s]"
     ]
    },
    {
     "name": "stderr",
     "output_type": "stream",
     "text": [
      "\r 18%|█████████████▊                                                                | 443/2500 [00:01<00:06, 313.15it/s]"
     ]
    },
    {
     "name": "stderr",
     "output_type": "stream",
     "text": [
      "\r 19%|██████████████▉                                                               | 479/2500 [00:02<00:06, 319.79it/s]"
     ]
    },
    {
     "name": "stderr",
     "output_type": "stream",
     "text": [
      "\r 21%|████████████████                                                              | 515/2500 [00:02<00:06, 329.06it/s]"
     ]
    },
    {
     "name": "stderr",
     "output_type": "stream",
     "text": [
      "\r 22%|█████████████████▏                                                            | 551/2500 [00:02<00:05, 333.06it/s]"
     ]
    },
    {
     "name": "stderr",
     "output_type": "stream",
     "text": [
      "\r 24%|██████████████████▍                                                           | 592/2500 [00:02<00:05, 350.22it/s]"
     ]
    },
    {
     "name": "stderr",
     "output_type": "stream",
     "text": [
      "\r 25%|███████████████████▌                                                          | 629/2500 [00:02<00:05, 340.24it/s]"
     ]
    },
    {
     "name": "stderr",
     "output_type": "stream",
     "text": [
      "\r 27%|████████████████████▋                                                         | 665/2500 [00:02<00:05, 344.94it/s]"
     ]
    },
    {
     "name": "stderr",
     "output_type": "stream",
     "text": [
      "\r 28%|█████████████████████▉                                                        | 704/2500 [00:02<00:05, 356.32it/s]"
     ]
    },
    {
     "name": "stderr",
     "output_type": "stream",
     "text": [
      "\r 30%|███████████████████████▎                                                      | 748/2500 [00:02<00:04, 375.95it/s]"
     ]
    },
    {
     "name": "stderr",
     "output_type": "stream",
     "text": [
      "\r 31%|████████████████████████▌                                                     | 787/2500 [00:02<00:04, 377.85it/s]"
     ]
    },
    {
     "name": "stderr",
     "output_type": "stream",
     "text": [
      "\r 33%|█████████████████████████▊                                                    | 826/2500 [00:03<00:04, 369.51it/s]"
     ]
    },
    {
     "name": "stderr",
     "output_type": "stream",
     "text": [
      "\r 35%|██████████████████████████▉                                                   | 864/2500 [00:03<00:04, 360.91it/s]"
     ]
    },
    {
     "name": "stderr",
     "output_type": "stream",
     "text": [
      "\r 36%|████████████████████████████                                                  | 901/2500 [00:03<00:04, 363.57it/s]"
     ]
    },
    {
     "name": "stderr",
     "output_type": "stream",
     "text": [
      "\r 38%|█████████████████████████████▎                                                | 938/2500 [00:03<00:04, 362.26it/s]"
     ]
    },
    {
     "name": "stderr",
     "output_type": "stream",
     "text": [
      "\r 39%|██████████████████████████████▌                                               | 980/2500 [00:03<00:04, 376.83it/s]"
     ]
    },
    {
     "name": "stderr",
     "output_type": "stream",
     "text": [
      "\r 41%|███████████████████████████████▍                                             | 1021/2500 [00:03<00:03, 385.11it/s]"
     ]
    },
    {
     "name": "stderr",
     "output_type": "stream",
     "text": [
      "\r 43%|████████████████████████████████▊                                            | 1066/2500 [00:03<00:03, 400.37it/s]"
     ]
    },
    {
     "name": "stderr",
     "output_type": "stream",
     "text": [
      "\r 44%|██████████████████████████████████                                           | 1107/2500 [00:03<00:03, 381.81it/s]"
     ]
    },
    {
     "name": "stderr",
     "output_type": "stream",
     "text": [
      "\r 46%|███████████████████████████████████▎                                         | 1147/2500 [00:03<00:03, 383.75it/s]"
     ]
    },
    {
     "name": "stderr",
     "output_type": "stream",
     "text": [
      "\r 47%|████████████████████████████████████▌                                        | 1186/2500 [00:03<00:03, 381.11it/s]"
     ]
    },
    {
     "name": "stderr",
     "output_type": "stream",
     "text": [
      "\r 49%|█████████████████████████████████████▊                                       | 1228/2500 [00:04<00:03, 387.65it/s]"
     ]
    },
    {
     "name": "stderr",
     "output_type": "stream",
     "text": [
      "\r 51%|███████████████████████████████████████                                      | 1267/2500 [00:04<00:03, 371.68it/s]"
     ]
    },
    {
     "name": "stderr",
     "output_type": "stream",
     "text": [
      "\r 52%|████████████████████████████████████████▏                                    | 1305/2500 [00:04<00:03, 358.29it/s]"
     ]
    },
    {
     "name": "stderr",
     "output_type": "stream",
     "text": [
      "\r 54%|█████████████████████████████████████████▎                                   | 1342/2500 [00:04<00:03, 354.45it/s]"
     ]
    },
    {
     "name": "stderr",
     "output_type": "stream",
     "text": [
      "\r 55%|██████████████████████████████████████████▍                                  | 1378/2500 [00:04<00:03, 343.82it/s]"
     ]
    },
    {
     "name": "stderr",
     "output_type": "stream",
     "text": [
      "\r 57%|███████████████████████████████████████████▋                                 | 1417/2500 [00:04<00:03, 353.60it/s]"
     ]
    },
    {
     "name": "stderr",
     "output_type": "stream",
     "text": [
      "\r 59%|█████████████████████████████████████████████                                | 1464/2500 [00:04<00:02, 376.45it/s]"
     ]
    },
    {
     "name": "stderr",
     "output_type": "stream",
     "text": [
      "\r 60%|██████████████████████████████████████████████▎                              | 1503/2500 [00:04<00:02, 346.92it/s]"
     ]
    },
    {
     "name": "stderr",
     "output_type": "stream",
     "text": [
      "\r 62%|███████████████████████████████████████████████▌                             | 1544/2500 [00:04<00:02, 361.78it/s]"
     ]
    },
    {
     "name": "stderr",
     "output_type": "stream",
     "text": [
      "\r 63%|████████████████████████████████████████████████▋                            | 1582/2500 [00:05<00:02, 364.97it/s]"
     ]
    },
    {
     "name": "stderr",
     "output_type": "stream",
     "text": [
      "\r 65%|█████████████████████████████████████████████████▉                           | 1620/2500 [00:05<00:02, 348.99it/s]"
     ]
    },
    {
     "name": "stderr",
     "output_type": "stream",
     "text": [
      "\r 66%|███████████████████████████████████████████████████                          | 1656/2500 [00:05<00:02, 350.15it/s]"
     ]
    },
    {
     "name": "stderr",
     "output_type": "stream",
     "text": [
      "\r 68%|████████████████████████████████████████████████████▎                        | 1699/2500 [00:05<00:02, 368.92it/s]"
     ]
    },
    {
     "name": "stderr",
     "output_type": "stream",
     "text": [
      "\r 69%|█████████████████████████████████████████████████████▍                       | 1737/2500 [00:05<00:02, 366.78it/s]"
     ]
    },
    {
     "name": "stderr",
     "output_type": "stream",
     "text": [
      "\r 71%|██████████████████████████████████████████████████████▋                      | 1777/2500 [00:05<00:01, 376.14it/s]"
     ]
    },
    {
     "name": "stderr",
     "output_type": "stream",
     "text": [
      "\r 73%|███████████████████████████████████████████████████████▉                     | 1815/2500 [00:05<00:01, 371.75it/s]"
     ]
    },
    {
     "name": "stderr",
     "output_type": "stream",
     "text": [
      "\r 74%|█████████████████████████████████████████████████████████                    | 1853/2500 [00:05<00:01, 356.32it/s]"
     ]
    },
    {
     "name": "stderr",
     "output_type": "stream",
     "text": [
      "\r 76%|██████████████████████████████████████████████████████████▏                  | 1889/2500 [00:05<00:01, 355.30it/s]"
     ]
    },
    {
     "name": "stderr",
     "output_type": "stream",
     "text": [
      "\r 77%|███████████████████████████████████████████████████████████▎                 | 1925/2500 [00:06<00:01, 352.50it/s]"
     ]
    },
    {
     "name": "stderr",
     "output_type": "stream",
     "text": [
      "\r 79%|████████████████████████████████████████████████████████████▍                | 1963/2500 [00:06<00:01, 359.31it/s]"
     ]
    },
    {
     "name": "stderr",
     "output_type": "stream",
     "text": [
      "\r 80%|█████████████████████████████████████████████████████████████▋               | 2001/2500 [00:06<00:01, 363.18it/s]"
     ]
    },
    {
     "name": "stderr",
     "output_type": "stream",
     "text": [
      "\r 82%|██████████████████████████████████████████████████████████████▊              | 2041/2500 [00:06<00:01, 372.45it/s]"
     ]
    },
    {
     "name": "stderr",
     "output_type": "stream",
     "text": [
      "\r 83%|████████████████████████████████████████████████████████████████             | 2080/2500 [00:06<00:01, 376.43it/s]"
     ]
    },
    {
     "name": "stderr",
     "output_type": "stream",
     "text": [
      "\r 85%|█████████████████████████████████████████████████████████████████▏           | 2118/2500 [00:06<00:01, 364.48it/s]"
     ]
    },
    {
     "name": "stderr",
     "output_type": "stream",
     "text": [
      "\r 86%|██████████████████████████████████████████████████████████████████▍          | 2158/2500 [00:06<00:00, 371.33it/s]"
     ]
    },
    {
     "name": "stderr",
     "output_type": "stream",
     "text": [
      "\r 88%|███████████████████████████████████████████████████████████████████▋         | 2196/2500 [00:06<00:00, 369.50it/s]"
     ]
    },
    {
     "name": "stderr",
     "output_type": "stream",
     "text": [
      "\r 89%|████████████████████████████████████████████████████████████████████▊        | 2236/2500 [00:06<00:00, 376.04it/s]"
     ]
    },
    {
     "name": "stderr",
     "output_type": "stream",
     "text": [
      "\r 91%|██████████████████████████████████████████████████████████████████████       | 2274/2500 [00:06<00:00, 369.51it/s]"
     ]
    },
    {
     "name": "stderr",
     "output_type": "stream",
     "text": [
      "\r 92%|███████████████████████████████████████████████████████████████████████▏     | 2312/2500 [00:07<00:00, 353.86it/s]"
     ]
    },
    {
     "name": "stderr",
     "output_type": "stream",
     "text": [
      "\r 94%|████████████████████████████████████████████████████████████████████████▎    | 2348/2500 [00:07<00:00, 350.47it/s]"
     ]
    },
    {
     "name": "stderr",
     "output_type": "stream",
     "text": [
      "\r 96%|█████████████████████████████████████████████████████████████████████████▋   | 2391/2500 [00:07<00:00, 371.06it/s]"
     ]
    },
    {
     "name": "stderr",
     "output_type": "stream",
     "text": [
      "\r 97%|██████████████████████████████████████████████████████████████████████████▉  | 2434/2500 [00:07<00:00, 384.89it/s]"
     ]
    },
    {
     "name": "stderr",
     "output_type": "stream",
     "text": [
      "\r 99%|████████████████████████████████████████████████████████████████████████████▏| 2475/2500 [00:07<00:00, 389.86it/s]"
     ]
    },
    {
     "name": "stderr",
     "output_type": "stream",
     "text": [
      "\r100%|█████████████████████████████████████████████████████████████████████████████| 2500/2500 [00:07<00:00, 329.81it/s]"
     ]
    },
    {
     "name": "stderr",
     "output_type": "stream",
     "text": [
      "\n"
     ]
    },
    {
     "name": "stderr",
     "output_type": "stream",
     "text": [
      "Tuning was enabled throughout the whole trace."
     ]
    },
    {
     "name": "stderr",
     "output_type": "stream",
     "text": [
      "\n"
     ]
    },
    {
     "name": "stderr",
     "output_type": "stream",
     "text": [
      "Tuning was enabled throughout the whole trace."
     ]
    },
    {
     "name": "stderr",
     "output_type": "stream",
     "text": [
      "\n"
     ]
    },
    {
     "name": "stderr",
     "output_type": "stream",
     "text": [
      "The gelman-rubin statistic is larger than 1.05 for some parameters. This indicates slight problems during sampling."
     ]
    },
    {
     "name": "stderr",
     "output_type": "stream",
     "text": [
      "\n"
     ]
    },
    {
     "name": "stderr",
     "output_type": "stream",
     "text": [
      "The estimated number of effective samples is smaller than 200 for some parameters."
     ]
    },
    {
     "name": "stderr",
     "output_type": "stream",
     "text": [
      "\n"
     ]
    }
   ],
   "source": [
    "with mdl_signoise:\n",
    "\n",
    "    ## two-step sampling to create Bernoulli inlier/outlier flags\n",
    "    step1 = pm.NUTS([frac_outliers, yest_out, sigma_y_out, b0, b1])\n",
    "    step2 = pm.BinaryMetropolis([is_outlier], tune_interval=100)\n",
    "\n",
    "    ## find MAP using Powell, seems to be more robust\n",
    "    start_MAP = pm.find_MAP(fmin=optimize.fmin_powell, disp=True)\n",
    "\n",
    "    ## take samples\n",
    "    traces_signoise = pm.sample(2000, start=start_MAP, step=[step1,step2], progressbar=True)"
   ]
  },
  {
   "cell_type": "code",
   "execution_count": 49,
   "metadata": {},
   "outputs": [
    {
     "data": {
      "image/png": "[encoded data removed]",
      "text/plain": [
       "<Figure size 864x864 with 12 Axes>"
      ]
     },
     "metadata": {},
     "output_type": "display_data"
    }
   ],
   "source": [
    "_ = pm.traceplot(traces_signoise[-1000:], figsize=(12,len(traces_signoise.varnames)*1.5),\n",
    "            lines={k: v['mean'] for k, v in pm.summary(traces_signoise[-1000:]).iterrows()})"
   ]
  },
  {
   "cell_type": "markdown",
   "metadata": {},
   "source": [
    "3 datapoints id=[1,2,3] are always indicated as outliers, but the remaining ordering of datapoints by decreasing outlier-hood is unstable between runs: the posterior surface appears to have a small number of solutions with very similar probability."
   ]
  },
  {
   "cell_type": "markdown",
   "metadata": {},
   "source": [
    "At each step of the traces, each datapoint may be either an inlier or outlier. We hope that the datapoints spend an unequal time being one state or the other, so let's take a look at the simple count of states for each of the 20 datapoints."
   ]
  },
  {
   "cell_type": "code",
   "execution_count": 51,
   "metadata": {},
   "outputs": [
    {
     "data": {
      "image/png": "[encoded data removed]",
      "text/plain": [
       "<Figure size 864x576 with 1 Axes>"
      ]
     },
     "metadata": {},
     "output_type": "display_data"
    }
   ],
   "source": [
    "outlier_melt = pd.melt(pd.DataFrame(traces_signoise['is_outlier', -1000:],\n",
    "                                   columns=['[{}]'.format(int(d)) for d in dfhoggs.index]),\n",
    "                      var_name='datapoint_id', value_name='is_outlier')\n",
    "ax0 = sns.pointplot(y='datapoint_id', x='is_outlier', data=outlier_melt,\n",
    "                   kind='point', join=False, ci=None, size=4, aspect=2)\n",
    "\n",
    "_ = ax0.vlines([0,1], 0, 19, ['b','r'], '--')\n",
    "\n",
    "_ = ax0.set_xlim((-0.1,1.1))\n",
    "_ = ax0.set_xticks(np.arange(0, 1.1, 0.1))\n",
    "_ = ax0.set_xticklabels(['{:.0%}'.format(t) for t in np.arange(0,1.1,0.1)])\n",
    "\n",
    "_ = ax0.yaxis.grid(True, linestyle='-', which='major', color='w', alpha=0.4)\n",
    "_ = ax0.set_title('Prop. of the trace where datapoint is an outlier')\n",
    "_ = ax0.set_xlabel('Prop. of the trace where is_outlier == 1')"
   ]
  },
  {
   "cell_type": "markdown",
   "metadata": {},
   "source": [
    "**Observe**:\n",
    "\n",
    "+ The plot above shows the number of samples in the traces in which each datapoint is marked as an outlier, expressed as a percentage.\n",
    "+ In particular, 3 points [1, 2, 3] spend >=95% of their time as outliers\n",
    "+ Contrastingly, points at the other end of the plot close to 0% are our strongest inliers.\n",
    "+ For comparison, the mean posterior value of `frac_outliers` is ~0.35, corresponding to roughly 7 of the 20 datapoints. You can see these 7 datapoints in the plot above, all those with a value >50% or thereabouts.\n",
    "+ However, only 3 of these points are outliers >=95% of the time. \n",
    "+ See note above regarding instability between runs.\n",
    "\n",
    "The 95% cutoff we choose is subjective and arbitrary, but I prefer it for now, so let's declare these 3 to be outliers and see how it looks compared to Jake Vanderplas' outliers, which were declared in a slightly different way as points with means above 0.68."
   ]
  },
  {
   "cell_type": "markdown",
   "metadata": {},
   "source": [
    "+ I will declare outliers to be datapoints that have value == 1 at the 5-percentile cutoff, i.e. in the percentiles from 5 up to 100, their values are 1. \n",
    "+ Try for yourself altering cutoff to larger values, which leads to an objective ranking of outlier-hood."
   ]
  },
  {
   "cell_type": "code",
   "execution_count": 52,
   "metadata": {},
   "outputs": [
    {
     "data": {
      "text/plain": [
       "0.0    17\n1.0     3\nName: outlier, dtype: int64"
      ]
     },
     "execution_count": 52,
     "metadata": {},
     "output_type": "execute_result"
    }
   ],
   "source": [
    "cutoff = 5\n",
    "dfhoggs['outlier'] = np.percentile(traces_signoise[-1000:]['is_outlier'],cutoff, axis=0)\n",
    "dfhoggs['outlier'].value_counts()"
   ]
  },
  {
   "cell_type": "code",
   "execution_count": 53,
   "metadata": {},
   "outputs": [],
   "source": []
  }
 ],
 "metadata": {
  "kernelspec": {
   "display_name": "Python 3",
   "language": "python",
   "name": "python3"
  },
  "language_info": {
   "codemirror_mode": {
    "name": "ipython",
    "version": 3
   },
   "file_extension": ".py",
   "mimetype": "text/x-python",
   "name": "python",
   "nbconvert_exporter": "python",
   "pygments_lexer": "ipython3",
   "version": "3.6.8"
  }
 },
 "nbformat": 4,
 "nbformat_minor": 2
}
